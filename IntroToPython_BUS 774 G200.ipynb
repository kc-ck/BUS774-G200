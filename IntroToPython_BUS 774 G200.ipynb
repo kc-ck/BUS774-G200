{
 "cells": [
  {
   "cell_type": "markdown",
   "metadata": {
    "slideshow": {
     "slide_type": "slide"
    }
   },
   "source": [
    "# Introduction to Python for Data Analysis \n",
    "### C Kaligotla | BUS 774 G200 \n",
    "### 04 Feb 2023"
   ]
  },
  {
   "cell_type": "markdown",
   "metadata": {
    "slideshow": {
     "slide_type": "slide"
    }
   },
   "source": [
    "#### Chapter 1. Basic Intro"
   ]
  },
  {
   "cell_type": "markdown",
   "metadata": {
    "slideshow": {
     "slide_type": "slide"
    }
   },
   "source": [
    "This workshop is designed as an introduction to Python specifically for Data Analysis used in BUS 774 G200. \n",
    "If you are new to Python and programming, and you want a more general introduction to Python programming - I'd recommend additional Tutorials. I will provide some options at the end of the course.\n",
    "\n",
    "Things to keep in mind: \n",
    "\n",
    "1. Python is the programming language\n",
    "\n",
    "2. Jupyter notebooks is the environment for writing and executing Python interactively (one or a few lines at a time)\n",
    "\n",
    "3. Anaconda is one of the distribution packages that provides Python, some standard Python libraries, Juptyter, and a bunch of other stuff.\n"
   ]
  },
  {
   "cell_type": "markdown",
   "metadata": {
    "slideshow": {
     "slide_type": "slide"
    }
   },
   "source": [
    "The Jupyter notebook interface is very simple: it is a web page with interactive cells in which you type short snippets of Python. You then hit \"Shift-Enter\" to run the code and the results are shown immediately below. \n",
    "    Note: Python will only display the output (if any) of the last line in a cell.\n",
    "\n",
    "You can also enter plain text into cells (called “markdown”) to document what you are doing or any notes you wish to take.\n",
    "\n",
    "You can also use comments in your code by using'#'. Note that Python will not run anything after the '#' sign. See example below.\n",
    "\n",
    "Careful with indenting in Python\n",
    "    Python considers indents as a chaining command\n",
    "    It's fine to do it with text or your notes, but not with code!"
   ]
  },
  {
   "cell_type": "markdown",
   "metadata": {
    "slideshow": {
     "slide_type": "slide"
    }
   },
   "source": [
    "First Things First.\n",
    "\n",
    "1. Install Anaconda on your computer.\n",
    "2. Then open Anaconda and ensure Jupyter Notebook is installed.\n",
    "3. Click on Jupyter Notebook and navigate to the location of the notebook you want to open, or where you want to save your notebook.\n",
    "\n",
    "A note on Jupyter Notebooks:\n",
    "1. To enter a new line of code or text, simply choose the \"+\" button from the menu.\n",
    "    -> The default is a code entry cell -- you will see an \"In []\" symbol to the left of the cell.\n",
    "    -> To enter text simply choose the dropdown list on the right of the menu options and choose \"Markdown\". "
   ]
  },
  {
   "cell_type": "code",
   "execution_count": null,
   "metadata": {
    "scrolled": true,
    "slideshow": {
     "slide_type": "slide"
    }
   },
   "outputs": [],
   "source": [
    "# Pyhton's Hidden Mission statement\n",
    "import this"
   ]
  },
  {
   "cell_type": "code",
   "execution_count": null,
   "metadata": {
    "slideshow": {
     "slide_type": "slide"
    }
   },
   "outputs": [],
   "source": [
    "# a typical first line of any programming language\n",
    "print('Hello World')\n",
    "# you should see an output below when you press \"Shift+Enter\""
   ]
  },
  {
   "cell_type": "code",
   "execution_count": null,
   "metadata": {},
   "outputs": [],
   "source": [
    "print('DONT PANIC')"
   ]
  },
  {
   "cell_type": "markdown",
   "metadata": {
    "slideshow": {
     "slide_type": "slide"
    }
   },
   "source": [
    "#### Chapter 2. Variables, Data Types, and Data Structures"
   ]
  },
  {
   "cell_type": "markdown",
   "metadata": {
    "slideshow": {
     "slide_type": "fragment"
    }
   },
   "source": [
    "##### 2.1 Variables\n",
    "Variables are basic building blocks of any program. \n",
    "    They are units (of a certain class or type) that are assigned to individual values\n",
    "'=' is the assignment parameter\n",
    "    'a=5' => the value 5 is assigned to variable name 'a'\n",
    "    \n",
    "Few rules of about Variable names:\n",
    "    1. Cannot start with a number, but a number can follow a letter\n",
    "    2. Cannot have special characters except an underscore\n",
    "    3. Typically start variable names with lower case letters\n",
    "        3b. Upper case names typically used for Classes which are different "
   ]
  },
  {
   "cell_type": "code",
   "execution_count": null,
   "metadata": {
    "slideshow": {
     "slide_type": "slide"
    }
   },
   "outputs": [],
   "source": [
    "#2.1 define a variable\n",
    "x  = 5 # value 5 assigned to variable name x\n",
    "x1 = 7\n",
    "# now let's see what's assigned to this variable\n",
    "\n",
    "#  you can either say print, or you can simply just use the variable name - try it!\n",
    "    # only difference is print's output is shown separately than the output of the last line\n",
    "\n",
    "print(x)\n",
    "print(x1)\n",
    "#x\n",
    "#x1\n",
    "# Now Rerun this cell without the print commands and instead simply call x and x1\n",
    "    #-> remember - jsut remove the # sign to make a comment into a code.\n",
    "    # if you don't use print, the ouput of the cell is the last command\n",
    "    # if you use print, you see all print commands executed!\n",
    "\n",
    "\n",
    "# To type some text in your print command, the basic structure is\n",
    "print('x=',x) \n",
    "    # everything within '..' is considered text, \n",
    "    # the comma and the variable name tells what you want to print after that line\n",
    "\n",
    "# now type out the same for x1!\n",
    "print()"
   ]
  },
  {
   "cell_type": "code",
   "execution_count": null,
   "metadata": {
    "slideshow": {
     "slide_type": "slide"
    }
   },
   "outputs": [],
   "source": [
    "# getting comfortable with looking up errors\n",
    "1x = 5\n",
    "# remember you cannot start a variable name with a number!\n",
    "# the error is telling you the syntax is invalid\n",
    "# a lot of programming is looking things up - so please get used to seeing errors without panicking"
   ]
  },
  {
   "cell_type": "markdown",
   "metadata": {
    "slideshow": {
     "slide_type": "slide"
    }
   },
   "source": [
    "##### 2.2 Basic Variable Data Types\n",
    "\n",
    "A sampling of some basic variable types\n",
    "To see what type of variable, simply use type() command pointing it at the value or variable name\n",
    "\n",
    "1. Numbers (including floats, integers,and complex numbers)\n",
    "    e.g., \n",
    "    num1 = 52\n",
    "    num2 = 5.2\n",
    "        Floats just means the decimal points float around\n",
    "    num3 = 5\n",
    "        Integers don't have decimal points \n",
    "    num4 = 5j\n",
    "        Complex numbers 'i' (sqrt of -1) is denoted as j in python!"
   ]
  },
  {
   "cell_type": "code",
   "execution_count": null,
   "metadata": {
    "slideshow": {
     "slide_type": "slide"
    }
   },
   "outputs": [],
   "source": [
    "num1 = 52\n",
    "num2 = 5.2    \n",
    "num3 = 5\n",
    "num4 = 5j"
   ]
  },
  {
   "cell_type": "code",
   "execution_count": null,
   "metadata": {
    "slideshow": {
     "slide_type": "fragment"
    }
   },
   "outputs": [],
   "source": [
    "# To see what type of variable, simply use type() command pointing it at the value or variable name\n",
    "print('num 1=',num1, 'is type', type(num1)) # you can use multiple ('<text>',<var/value>) structure in print commands\n",
    "print('num 2=',num2, 'is type', type(num2))\n",
    "print('num 3=',num3, 'is type', type(num3))\n",
    "print('num 4=',num4, 'is type', type(num4))\n",
    "# variables are stored as \"class\" types - i.e., a structure common to all variables in that class"
   ]
  },
  {
   "cell_type": "markdown",
   "metadata": {
    "slideshow": {
     "slide_type": "slide"
    }
   },
   "source": [
    "2. Strings - characters declared as single or double quotes\n",
    "\n",
    "    let's try the following examples:\n",
    "    s1 = \"String 1\"\n",
    "    s2 = \"String 2\"\n",
    "    \n",
    "    Now saw you want to join the strings (Concontenate)\n",
    "            You can simple add  them together"
   ]
  },
  {
   "cell_type": "code",
   "execution_count": null,
   "metadata": {},
   "outputs": [],
   "source": [
    "s1= \"String 1\"\n",
    "s2= 'String 2'\n",
    "s1 + s2 # just joins the 2 strings!"
   ]
  },
  {
   "cell_type": "code",
   "execution_count": null,
   "metadata": {},
   "outputs": [],
   "source": [
    "# say you want add a spacce\n",
    "print(s1 + ' ' + s2) #(you can simply add a space within + and write a chain of additions)"
   ]
  },
  {
   "cell_type": "code",
   "execution_count": null,
   "metadata": {},
   "outputs": [],
   "source": [
    "# now try this: \n",
    "s1 = '1'\n",
    "s2 = '1'\n",
    "# we declare both these as strings or charcters\n",
    "#If you add them, say \n",
    "#s1 + s2 -  What is the answeR?\n",
    "s1 + s2 # recall you are adding as strings"
   ]
  },
  {
   "cell_type": "code",
   "execution_count": null,
   "metadata": {},
   "outputs": [],
   "source": [
    "# now try this\n",
    "'1' + 1"
   ]
  },
  {
   "cell_type": "markdown",
   "metadata": {},
   "source": [
    "You cannopt add an int to a character string!\n",
    "Get comfy reading errors!"
   ]
  },
  {
   "cell_type": "markdown",
   "metadata": {},
   "source": [
    "3. Booleans \n",
    "    - simply True or False\n",
    "    - Used for logic operations or statements"
   ]
  },
  {
   "cell_type": "code",
   "execution_count": null,
   "metadata": {},
   "outputs": [],
   "source": [
    "x=True\n",
    "y=False"
   ]
  },
  {
   "cell_type": "code",
   "execution_count": null,
   "metadata": {},
   "outputs": [],
   "source": [
    "x==y"
   ]
  },
  {
   "cell_type": "code",
   "execution_count": null,
   "metadata": {},
   "outputs": [],
   "source": [
    "x!=y # != is Not Equal to"
   ]
  },
  {
   "cell_type": "code",
   "execution_count": null,
   "metadata": {},
   "outputs": [],
   "source": [
    "#what is this program doing?\n",
    "n1 = 5\n",
    "n2 = 5\n",
    "ans = (n1==n2)\n",
    "# What will the output be?"
   ]
  },
  {
   "cell_type": "code",
   "execution_count": null,
   "metadata": {},
   "outputs": [],
   "source": [
    "print(ans)\n",
    "# let's check the type of ans\n",
    "type(ans) \n",
    "# bool is boolean"
   ]
  },
  {
   "cell_type": "markdown",
   "metadata": {
    "slideshow": {
     "slide_type": "slide"
    }
   },
   "source": [
    "##### 2.3 Data Structures\n",
    "\n",
    "While variables are assigned a single value, \n",
    "    there are other data structures in Python that can take multiple values or an array of values\n",
    "\n",
    "Some common Data Structures in Python:\n",
    "    1. Lists\n",
    "        List of numbers\n",
    "        List of strings\n",
    "        List of Lists\n",
    "    2. Sets\n",
    "        All elements of sets have to be unique!\n",
    "        Set of Sets!\n",
    "    3. Tuples\n",
    "    4. Dictionaries\n",
    "\n",
    "Some useful command for data structures:\n",
    "    len() -> gives the length of the list, i.e., # of elements\n"
   ]
  },
  {
   "cell_type": "markdown",
   "metadata": {
    "slideshow": {
     "slide_type": "slide"
    }
   },
   "source": [
    "###### 2.3.1 LISTS\n",
    "think about lists as an array of values, of any data type\n",
    "we define lists using '= [ , ]' structure, i.e., square brackets where each element separated by a comma\n",
    "let's start with a list of numbers\n"
   ]
  },
  {
   "cell_type": "code",
   "execution_count": null,
   "metadata": {
    "slideshow": {
     "slide_type": "fragment"
    }
   },
   "outputs": [],
   "source": [
    "my_list_1=[1,2,3,4] \n",
    "# the commas tell Python to store the unique value in a separate index (think cells in excel)\n",
    "# ORDER MATTERS - the first element has index 0, the second has index 1, and so on...\n",
    "\n",
    "print('length:',len(my_list_1))\n",
    "print(my_list_1)\n",
    "print(type(my_list_1))"
   ]
  },
  {
   "cell_type": "code",
   "execution_count": null,
   "metadata": {
    "slideshow": {
     "slide_type": "fragment"
    }
   },
   "outputs": [],
   "source": [
    "# now let's make a list of characters or strings\n",
    "my_list_2 = ['i','want','beer']\n",
    "print('length:',len(my_list_2))\n",
    "print(my_list_2)"
   ]
  },
  {
   "cell_type": "code",
   "execution_count": null,
   "metadata": {
    "slideshow": {
     "slide_type": "fragment"
    }
   },
   "outputs": [],
   "source": [
    "# now let's make a list of lists\n",
    "my_list_3 = [my_list_1,my_list_2]\n",
    "print(my_list_3)\n",
    "print('length:',len(my_list_3))\n",
    "# let's print the second element of my_list_3\n",
    "my_list_3[1] # remember - python starts indexing with 0!"
   ]
  },
  {
   "cell_type": "markdown",
   "metadata": {
    "slideshow": {
     "slide_type": "slide"
    }
   },
   "source": [
    "##### 2.3.2 Sets\n",
    "sets have unique elements\n",
    "sets defined by using '= { , }' structure where commas do same thing as in lists\n",
    "order not as important as elements are unique"
   ]
  },
  {
   "cell_type": "code",
   "execution_count": null,
   "metadata": {
    "slideshow": {
     "slide_type": "slide"
    }
   },
   "outputs": [],
   "source": [
    "my_set1 = {1,2,3,4}\n",
    "print(type(my_set1))\n",
    "print(my_set1)\n",
    "print('length:',len(my_set1))"
   ]
  },
  {
   "cell_type": "code",
   "execution_count": null,
   "metadata": {},
   "outputs": [],
   "source": [
    "my_set2 = {1,1,2,2,3,3}\n",
    "    # even though this set has 6 values, there are only 3 unique values\n",
    "print(type(my_set2))\n",
    "print(my_set2) \n",
    "print('length:',len(my_set2))"
   ]
  },
  {
   "cell_type": "code",
   "execution_count": null,
   "metadata": {},
   "outputs": [],
   "source": [
    "# Ordering Matters for Lists\n",
    "\n",
    "[1,2] == [2,1] # list\n"
   ]
  },
  {
   "cell_type": "code",
   "execution_count": null,
   "metadata": {},
   "outputs": [],
   "source": [
    "# order does not matter for sets\n",
    "{1,2}=={2,1}"
   ]
  },
  {
   "cell_type": "code",
   "execution_count": null,
   "metadata": {},
   "outputs": [],
   "source": [
    "# order does not matter for sets\n",
    "{1,1,2,3,3,3,3}=={3,2,1}\n",
    "# useful for storing unique values in your data!"
   ]
  },
  {
   "cell_type": "markdown",
   "metadata": {
    "slideshow": {
     "slide_type": "slide"
    }
   },
   "source": [
    "###### 2.3.3. Tuples \n",
    "-similar to lists - same length calculation, i.e., NOT unique values\n",
    "-order matters\n",
    "-Tuples cannot be appended, i.e., you cannot add on a value to a tuple once defined\n",
    "    => tuples once set, can only be rewritten completely - you cannot add individual values\n",
    "-useful to store (x,y) values \n",
    "-much more efficient with memory \n",
    "    \n",
    "-Tuples defined by using '= ( , )' structure where commas do same thing as in lists"
   ]
  },
  {
   "cell_type": "code",
   "execution_count": null,
   "metadata": {},
   "outputs": [],
   "source": [
    "my_tuple= (1,2,3)\n",
    "print(my_tuple)\n",
    "print(type(my_tuple))\n",
    "print('length',len(my_tuple))    "
   ]
  },
  {
   "cell_type": "code",
   "execution_count": null,
   "metadata": {},
   "outputs": [],
   "source": [
    "# recall my_list_3 from earlier\n",
    "print(my_list_3)"
   ]
  },
  {
   "cell_type": "code",
   "execution_count": null,
   "metadata": {},
   "outputs": [],
   "source": [
    "# now let us append this list, i.e., add elements using <obj name>.append(<what to add>) function\n",
    "my_list_3.append('NOW') \n",
    "print(my_list_3)\n",
    "    # now try to append a list at the end to my_list_3!\n",
    "    "
   ]
  },
  {
   "cell_type": "code",
   "execution_count": null,
   "metadata": {},
   "outputs": [],
   "source": [
    "# this won't work for tuples\n",
    "my_tuple.append(4)\n",
    "# remember - read the error message"
   ]
  },
  {
   "cell_type": "markdown",
   "metadata": {},
   "source": [
    "##### 2.3.4. Dictionaries\n",
    "- just like real dictionaries - think of a lookup type function\n",
    "- structure is within { }, separated by ',', and each element has a 2 values in this format: 'key' : 'return' \n",
    "- if you enter the value for  <dictionary.name>[key], you will get the (return) value as output\n",
    "- like sets, only stores unique key values"
   ]
  },
  {
   "cell_type": "code",
   "execution_count": null,
   "metadata": {},
   "outputs": [],
   "source": [
    "# use indentation for multi line command\n",
    "my_dictionary = {\n",
    "    'apple': 'keeps doctors away',\n",
    "    'bear': 'fluffy but scary animal',\n",
    "    'beer': 'good',\n",
    "    2:'Min. # of beers',\n",
    "    42: 'the answer to life the universe and everything '\n",
    "}\n",
    "# notice you can use different data types in a dictionary"
   ]
  },
  {
   "cell_type": "code",
   "execution_count": null,
   "metadata": {},
   "outputs": [],
   "source": [
    "print(type(my_dictionary))\n",
    "print('length',len(my_dictionary))\n",
    "# to lookup a value \n",
    "my_dictionary['beer'] # beer in ' '  since it is a string "
   ]
  },
  {
   "cell_type": "code",
   "execution_count": null,
   "metadata": {},
   "outputs": [],
   "source": [
    "my_dictionary[2] # here you are looking up a number, so no ' '"
   ]
  },
  {
   "cell_type": "code",
   "execution_count": null,
   "metadata": {},
   "outputs": [],
   "source": [
    "my_dictionary[42]"
   ]
  },
  {
   "cell_type": "markdown",
   "metadata": {
    "slideshow": {
     "slide_type": "slide"
    }
   },
   "source": [
    "##### A note on how Python interprets things...\n",
    "\n",
    "Say you have the following lines of a program:\n",
    "    a=2\n",
    "    b=3\n",
    "    c=a+b\n",
    "Python sees 'a=2', and stores the value '2' in the memory and assigns it to variable name 'a'. \n",
    "It essentially points or maps 'a' to the data stored in the memory, '2'!\n",
    "Python then sees 'b=3' and does the same\n",
    "Python then sees 'c=a+b' \n",
    "    - it first looks up value of 'a', fetches the value '2, \n",
    "    - then does the same for 'b', \n",
    "    - then peforms the addition and stores the value to variable 'c'\n",
    "    \n",
    " You don't need to know how Python looks up value or data stored in memory.\n",
    " Bur remember that these are just mapping\n",
    " \n",
    "Now consider a program\n",
    "    a = [1 2 3 4 5]\n",
    "    b = a\n",
    " 'a' here refers to a list or vector of values\n",
    " If you change one value of 'a'  (Say 1 becomes 6), and you run the 2 lines of the cell,\n",
    "     Then python doesn't duplicate the value of 'a' to assign to 'b'. \n",
    "         Instead, it simply assigns the data stored in memory for 'a' to 'b'\n",
    "         \n",
    "Let's test this out!\n",
    " "
   ]
  },
  {
   "cell_type": "code",
   "execution_count": null,
   "metadata": {
    "slideshow": {
     "slide_type": "slide"
    }
   },
   "outputs": [],
   "source": [
    "a = [1,2,3,4,5] # python stores these numbers to variable 'a' as a list or vector \n",
    "# each list or vector has index values (like excel) starting with 0,1,2....\n",
    "# Thus a[0], the first value in list a is 1\n",
    "# a[1], the second value in list a is 2, and so on\n",
    "# let's print a and see! - you dont need to say print, you can simply just use the variable name\n",
    "a\n",
    "# Now let's print the second value in list a\n",
    "# a[1]"
   ]
  },
  {
   "cell_type": "code",
   "execution_count": null,
   "metadata": {
    "slideshow": {
     "slide_type": "fragment"
    }
   },
   "outputs": [],
   "source": [
    "# now let's assign variable b and make it equal to a\n",
    "b=a\n",
    "#check value of b - same as a right?\n",
    "b"
   ]
  },
  {
   "cell_type": "code",
   "execution_count": null,
   "metadata": {
    "slideshow": {
     "slide_type": "fragment"
    }
   },
   "outputs": [],
   "source": [
    "# now let's change the first index value in list a\n",
    "a[0] = 6 # look up index value [0] within a and assign value 6"
   ]
  },
  {
   "cell_type": "code",
   "execution_count": null,
   "metadata": {
    "slideshow": {
     "slide_type": "fragment"
    }
   },
   "outputs": [],
   "source": [
    "# now check value of a\n",
    "a \n",
    "# see how the first index value to 6?"
   ]
  },
  {
   "cell_type": "code",
   "execution_count": null,
   "metadata": {
    "slideshow": {
     "slide_type": "fragment"
    }
   },
   "outputs": [],
   "source": [
    "# now let's see value of b\n",
    "b\n",
    "# notice value of b has changed and it remains the same as 'a' even though we only changed value of a \n",
    "# remember when we assigned b=a, we simply pointed variable b to the data stored memory for a"
   ]
  },
  {
   "cell_type": "markdown",
   "metadata": {},
   "source": [
    "#### Chapter 3: Operators and Logic Operations\n"
   ]
  },
  {
   "cell_type": "markdown",
   "metadata": {},
   "source": [
    "##### 3.1 Arithmetic Operators\n",
    "- common math or formulaic operators\n",
    "- careful: sqrt(-1) is denoted by j\n",
    "- BODMAS rules apply\n",
    "+, - , *, / ,\n",
    "** for exponents (not ^) "
   ]
  },
  {
   "cell_type": "code",
   "execution_count": null,
   "metadata": {},
   "outputs": [],
   "source": [
    "1+1"
   ]
  },
  {
   "cell_type": "code",
   "execution_count": null,
   "metadata": {},
   "outputs": [],
   "source": [
    "5**2"
   ]
  },
  {
   "cell_type": "code",
   "execution_count": null,
   "metadata": {},
   "outputs": [],
   "source": [
    "5**(.5) # sqrt"
   ]
  },
  {
   "cell_type": "code",
   "execution_count": null,
   "metadata": {},
   "outputs": [],
   "source": [
    "3 + 2*(4*5**2) -9/3 # BODMAS Rules"
   ]
  },
  {
   "cell_type": "markdown",
   "metadata": {
    "slideshow": {
     "slide_type": "slide"
    }
   },
   "source": [
    "##### 3.2 Logic operations: \n",
    "typically boolean operations\n",
    "\n",
    "Comparison Operators\n",
    "       1. '==' is a comparison operator (is left hand side (lhs) equal to right hand sinde (rhs))\n",
    "       2. '>' or '>='\n",
    "       3. '<' or '<='\n",
    "       and so on....\n",
    "Logical Operators\n",
    "    1. and - both sides need to be True for True\n",
    "    2. or - at least one side needs to be true\n",
    "    3. not - flip boolean\n",
    "    \n",
    "Membership Operators\n",
    "    1. in\n",
    "    2. not in "
   ]
  },
  {
   "cell_type": "code",
   "execution_count": null,
   "metadata": {},
   "outputs": [],
   "source": [
    "# Comparison Operators\n",
    "x1 = 5\n",
    "x2 = 6\n",
    "print(x1==5)\n",
    "print(x1+1==x2)\n",
    "print(x2<=x1)\n",
    "print(x2>=x1)\n",
    "# please play around to build intuition\n",
    "# you can do this with lists, sets, tuples...."
   ]
  },
  {
   "cell_type": "code",
   "execution_count": null,
   "metadata": {},
   "outputs": [],
   "source": [
    "# Logical Operators\n",
    "print(True and True)\n",
    "print(True and False)\n",
    "print(False or False)\n",
    "print(False or True)\n",
    "print(not False)"
   ]
  },
  {
   "cell_type": "code",
   "execution_count": null,
   "metadata": {},
   "outputs": [],
   "source": [
    "# membership - useful to check if something belongs in an object\n",
    "x= [1,2,3,4]\n",
    "print(1 in x)\n",
    "print(10 not in x)\n",
    "print('cat' not in 'my pet cat')\n",
    "print('beer' in my_dictionary)"
   ]
  },
  {
   "cell_type": "markdown",
   "metadata": {
    "slideshow": {
     "slide_type": "slide"
    }
   },
   "source": [
    "#### Chapter 4: Control Flow (if-else, loops)"
   ]
  },
  {
   "cell_type": "markdown",
   "metadata": {},
   "source": [
    "##### 4.1 If-else statements\n",
    "\n",
    "   1. If [check]: \n",
    "           then [return/do this]\n",
    "   2. If [check]:\n",
    "           then [return/do this] \n",
    "       else: \n",
    "           [return/do this]\n",
    "           \n",
    "Remember - Indentation matters!"
   ]
  },
  {
   "cell_type": "code",
   "execution_count": null,
   "metadata": {},
   "outputs": [],
   "source": [
    "a=True\n",
    "# simple if statement\n",
    "if a:print('it is true!')"
   ]
  },
  {
   "cell_type": "code",
   "execution_count": null,
   "metadata": {},
   "outputs": [],
   "source": [
    "# if statement with multiple operations\n",
    "x=1\n",
    "y=1\n",
    "\n",
    "if x==y: # this is check\n",
    "    print('it is true!') #operation 1\n",
    "    print('also print this') # operation 2\n",
    "\n",
    "# now change y to 2 and see what happens?\n",
    "# it doesn't run coz the check failed!"
   ]
  },
  {
   "cell_type": "code",
   "execution_count": null,
   "metadata": {},
   "outputs": [],
   "source": [
    "# if else statement\n",
    "# note the indentation!\n",
    "\n",
    "x=1\n",
    "y=2\n",
    "\n",
    "if x==y:\n",
    "    print('it is true!')\n",
    "    print('also print this')\n",
    "else:\n",
    "    print(' It is false')       \n",
    "    \n",
    "# now change y to 2"
   ]
  },
  {
   "cell_type": "code",
   "execution_count": null,
   "metadata": {},
   "outputs": [],
   "source": [
    "# complex if else - a second if-else within the first\n",
    "\n",
    "x=1\n",
    "y=1\n",
    "z = 'beer'\n",
    "\n",
    "if x==y:\n",
    "    print('it is true!')\n",
    "    print('also print this')\n",
    "    if (z in my_dictionary):\n",
    "        print('What if i get beer after class?',my_dictionary['beer'])\n",
    "        print(my_dictionary[2],'2')\n",
    "else:\n",
    "    print(' It is false')       \n",
    "    \n",
    "# now change y to 2\n",
    "# now change z to 'coffee'"
   ]
  },
  {
   "cell_type": "markdown",
   "metadata": {},
   "source": [
    "##### 4.2 For and While Loops \n",
    "\n",
    "Used to avoid complex if else statements\n",
    "\n",
    "Remember, indentation matters\n",
    "\n",
    "Also be careful: avoid infinite loops\n",
    "\n",
    "\n",
    "for [condition]:\n",
    "    do [this]\n",
    "    \n",
    "while [condition]:\n",
    "    do [this]\n",
    "   "
   ]
  },
  {
   "cell_type": "code",
   "execution_count": null,
   "metadata": {},
   "outputs": [],
   "source": [
    "# for loops\n",
    "a = [1,2,3,4,5]\n",
    "\n",
    "for number in a: \n",
    "    print(number**2) \n",
    "# for each number in a (condition):\n",
    "    # print square of the number (return)\n",
    "\n",
    "#the condition in here is pointing within object a, and Not doing a check"
   ]
  },
  {
   "cell_type": "code",
   "execution_count": null,
   "metadata": {},
   "outputs": [],
   "source": [
    "# while loops\n",
    "\n",
    "a=0 \n",
    "while a < 5:\n",
    "    print(a)\n",
    "    a=a+1  \n",
    "    \n",
    "# what happens if you forget the last line? (a=a+1)\n",
    "    # you get an infinite loop!\n",
    "    # DONT DO THAT!"
   ]
  },
  {
   "cell_type": "markdown",
   "metadata": {},
   "source": [
    "#### Chapter 5: Functions"
   ]
  },
  {
   "cell_type": "markdown",
   "metadata": {},
   "source": [
    "Functions are essentially automated operations\n",
    "Think of the print() function, etc....\n",
    "\n",
    "structure: \n",
    "    def <function.name>(input):\n",
    "        do [this]\n",
    "        return [this]  # if needed\n",
    "\n",
    "sometimes functions don't need to return anything (e.g., a function to append a value into a list)"
   ]
  },
  {
   "cell_type": "code",
   "execution_count": null,
   "metadata": {},
   "outputs": [],
   "source": [
    "# simple function with 1 input\n",
    "def fn_1(val):\n",
    "    return val ** 3\n",
    "\n",
    "# define function called fn_1 with input (val):\n",
    "    # return val to the power 3\n",
    "    "
   ]
  },
  {
   "cell_type": "code",
   "execution_count": null,
   "metadata": {},
   "outputs": [],
   "source": [
    "fn_1(21111)"
   ]
  },
  {
   "cell_type": "code",
   "execution_count": null,
   "metadata": {},
   "outputs": [],
   "source": [
    "# function with 2 inputs\n",
    "def fn_2(val1,val2):\n",
    "    return (val1 ** 2) + (val2 ** 2)"
   ]
  },
  {
   "cell_type": "code",
   "execution_count": null,
   "metadata": {},
   "outputs": [],
   "source": [
    "fn_2(1,2)\n",
    "# you can use this function on any 2 inputs"
   ]
  },
  {
   "cell_type": "code",
   "execution_count": null,
   "metadata": {},
   "outputs": [],
   "source": [
    "# function with no return\n",
    "def fn_3(num,list):\n",
    "    list.append(num)\n",
    "    \n",
    "# define function fn_3 with 2 inputs, a num, and a list:\n",
    "    #append the num to the list"
   ]
  },
  {
   "cell_type": "code",
   "execution_count": null,
   "metadata": {},
   "outputs": [],
   "source": [
    "a=[1,2,3,4] # example list\n",
    "b=5 # example num\n",
    "\n",
    "fn_3(b,a) # function to append b into a\n",
    "print(a) # magic!"
   ]
  },
  {
   "cell_type": "markdown",
   "metadata": {},
   "source": [
    "A package is essentially a collection of functions\n",
    "\n",
    "When we import pandas for example, we are simply calling all functions that are part of pandas package\n",
    "pandas deal with managing data\n",
    "for plotting, we use other packages, like seaborn\n",
    "\n",
    "packages are why Python becomes to useful"
   ]
  },
  {
   "cell_type": "markdown",
   "metadata": {},
   "source": [
    "### END OF CODE\n",
    "\n",
    "There's a lot more to python programming, but this introduction is a good starting point for class.\n",
    "I'll provide a curated list of learning resources if you want to get deeper into it\n"
   ]
  }
 ],
 "metadata": {
  "celltoolbar": "Slideshow",
  "kernelspec": {
   "display_name": "Python 3",
   "language": "python",
   "name": "python3"
  },
  "language_info": {
   "codemirror_mode": {
    "name": "ipython",
    "version": 3
   },
   "file_extension": ".py",
   "mimetype": "text/x-python",
   "name": "python",
   "nbconvert_exporter": "python",
   "pygments_lexer": "ipython3",
   "version": "3.7.6"
  }
 },
 "nbformat": 4,
 "nbformat_minor": 4
}
