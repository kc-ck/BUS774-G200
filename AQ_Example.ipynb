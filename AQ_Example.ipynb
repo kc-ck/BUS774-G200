{
 "cells": [
  {
   "cell_type": "markdown",
   "metadata": {
    "id": "yvDjESkKGYLF"
   },
   "source": [
    "1. Import Packages\n"
   ]
  },
  {
   "cell_type": "code",
   "execution_count": null,
   "metadata": {
    "id": "tztjTHN5GOUK"
   },
   "outputs": [],
   "source": [
    "import pandas as pd\n"
   ]
  },
  {
   "cell_type": "markdown",
   "metadata": {
    "id": "9LKYuSJaGh3k"
   },
   "source": [
    "2. Load Data onto  google colab or Jupyter Notebooks"
   ]
  },
  {
   "cell_type": "code",
   "execution_count": null,
   "metadata": {
    "id": "P6bQH4sbGlUI"
   },
   "outputs": [],
   "source": [
    "# for google colab\n",
    "from google.colab import files \n",
    "uploaded=files.upload() # gives you an option to upload data onto google colab.\n",
    "#note this could take some time for large data sets"
   ]
  },
  {
   "cell_type": "code",
   "execution_count": null,
   "metadata": {
    "id": "6eKRddWALJbf"
   },
   "outputs": [],
   "source": [
    "# for Jupyter Notebooks - upload from your computer using pd.read_csv() function\n",
    "aq1 = pd.read_csv(\"AQ_1.csv\")\n",
    "aq2 = pd.read_csv(\"AQ_2.csv\")\n",
    "aq3 = pd.read_csv(\"AQ_3.csv\")\n",
    "aq4 = pd.read_csv(\"AQ_4.csv\")"
   ]
  },
  {
   "cell_type": "markdown",
   "metadata": {
    "id": "HVJ_pc6MHpRa"
   },
   "source": [
    "3. Check Data Sets"
   ]
  },
  {
   "cell_type": "code",
   "execution_count": null,
   "metadata": {
    "id": "hqXm30JLLjCo"
   },
   "outputs": [],
   "source": [
    "aq1.head()"
   ]
  },
  {
   "cell_type": "code",
   "execution_count": null,
   "metadata": {
    "id": "4py_w334Hsvq"
   },
   "outputs": [],
   "source": [
    "aq2.head()"
   ]
  },
  {
   "cell_type": "code",
   "execution_count": null,
   "metadata": {
    "id": "GMnYHPrDLmtg"
   },
   "outputs": [],
   "source": [
    "aq3.head()"
   ]
  },
  {
   "cell_type": "code",
   "execution_count": null,
   "metadata": {
    "id": "zx4OjcrDLmg6"
   },
   "outputs": [],
   "source": [
    "aq4.head()"
   ]
  },
  {
   "cell_type": "markdown",
   "metadata": {
    "id": "hFjky3PiLyR1"
   },
   "source": [
    "3. Calculate Desc. Summary Statistics for each of these data sets"
   ]
  },
  {
   "cell_type": "code",
   "execution_count": null,
   "metadata": {
    "id": "eWnTTbOuL6DU"
   },
   "outputs": [],
   "source": [
    "print(\"Mean X: \", aq1['x'].mean())\n",
    "print(\"Mean Y: \", aq1['y'].mean())\n",
    "print(\"Var X: \", aq1['x'].var())\n",
    "print(\"Var Y: \", aq1['y'].var())\n",
    "print(\"CORR X,Y: \", aq1.corr())"
   ]
  },
  {
   "cell_type": "code",
   "execution_count": null,
   "metadata": {
    "id": "Y3hUuptrMIfQ"
   },
   "outputs": [],
   "source": [
    "#Repeat for AQ2 - # just change the call from dataframe aq1 to aq2\n"
   ]
  },
  {
   "cell_type": "code",
   "execution_count": null,
   "metadata": {
    "id": "VCNOZPAUMNCT"
   },
   "outputs": [],
   "source": [
    "#repeat for AQ3\n"
   ]
  },
  {
   "cell_type": "code",
   "execution_count": null,
   "metadata": {
    "id": "ufibeG00MQYc"
   },
   "outputs": [],
   "source": [
    "#repeat for AQ4"
   ]
  },
  {
   "cell_type": "markdown",
   "metadata": {
    "id": "kdYZoNZNIFwh"
   },
   "source": [
    "4. Plotting"
   ]
  },
  {
   "cell_type": "code",
   "execution_count": null,
   "metadata": {
    "id": "J_TBGeyMIHWk"
   },
   "outputs": [],
   "source": [
    "import seaborn as sns # import package for plotting\n",
    "sns.lmplot(data=aq1, x=\"x\", y=\"y\")"
   ]
  },
  {
   "cell_type": "code",
   "execution_count": null,
   "metadata": {
    "id": "F-No7MhDSIZT"
   },
   "outputs": [],
   "source": [
    "# repeat plot for AQ2 # call on the right data set, aq2"
   ]
  },
  {
   "cell_type": "code",
   "execution_count": null,
   "metadata": {
    "id": "XpIPx-qJT0F4"
   },
   "outputs": [],
   "source": [
    "# repeat plot for AQ3"
   ]
  },
  {
   "cell_type": "code",
   "execution_count": null,
   "metadata": {
    "id": "7JVXO7nGUT81"
   },
   "outputs": [],
   "source": [
    "# repeat plot for AQ4"
   ]
  },
  {
   "cell_type": "markdown",
   "metadata": {
    "id": "AAFUNBGaUc1T"
   },
   "source": [
    "5. Regression Coefficients\n"
   ]
  },
  {
   "cell_type": "code",
   "execution_count": null,
   "metadata": {
    "id": "FBcuKfN1Ufnr"
   },
   "outputs": [],
   "source": [
    "import numpy as np\n",
    "import scipy.stats"
   ]
  },
  {
   "cell_type": "code",
   "execution_count": null,
   "metadata": {
    "colab": {
     "base_uri": "https://localhost:8080/",
     "height": 35
    },
    "id": "GrL-vg9qVFgz",
    "outputId": "62a0a842-38da-46b0-a7ba-d31ff23c0386"
   },
   "outputs": [],
   "source": [
    "slope, intercept, r, p, stderr = scipy.stats.linregress(aq1['x'], aq1['y'])\n",
    "line = f'Regression line: y={intercept:.2f}+{slope:.2f}x, r={r:.2f}'\n",
    "line"
   ]
  },
  {
   "cell_type": "code",
   "execution_count": null,
   "metadata": {
    "colab": {
     "base_uri": "https://localhost:8080/",
     "height": 285
    },
    "id": "sVcuHp26Vjcu",
    "outputId": "9a435496-4da5-41e2-c687-b26a498d946d"
   },
   "outputs": [],
   "source": [
    "fig, ax = plt.subplots()\n",
    "ax.plot(aq1['x'], aq1['y'], linewidth=0, marker='s', label='Data points')\n",
    "ax.plot(aq1['x'], intercept + slope * aq1['x'], label=line)\n",
    "ax.set_xlabel('x')\n",
    "ax.set_ylabel('y')\n",
    "ax.legend(facecolor='white')\n",
    "plt.show()"
   ]
  },
  {
   "cell_type": "code",
   "execution_count": null,
   "metadata": {
    "colab": {
     "base_uri": "https://localhost:8080/",
     "height": 285
    },
    "id": "J59Nqc-fVya8",
    "outputId": "0f246104-ab9f-4d56-8f22-26d05a15c518"
   },
   "outputs": [],
   "source": [
    "# repeat the same for aq2"
   ]
  },
  {
   "cell_type": "code",
   "execution_count": null,
   "metadata": {
    "id": "Raj7WcaqV7v7"
   },
   "outputs": [],
   "source": [
    "# repeat the same for aq3"
   ]
  },
  {
   "cell_type": "code",
   "execution_count": null,
   "metadata": {
    "id": "Ttdbcs3hWFm0"
   },
   "outputs": [],
   "source": [
    "# repeat for aq4"
   ]
  }
 ],
 "metadata": {
  "colab": {
   "provenance": []
  },
  "kernelspec": {
   "display_name": "Python 3",
   "language": "python",
   "name": "python3"
  },
  "language_info": {
   "codemirror_mode": {
    "name": "ipython",
    "version": 3
   },
   "file_extension": ".py",
   "mimetype": "text/x-python",
   "name": "python",
   "nbconvert_exporter": "python",
   "pygments_lexer": "ipython3",
   "version": "3.8.8"
  }
 },
 "nbformat": 4,
 "nbformat_minor": 1
}
