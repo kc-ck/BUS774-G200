{
  "cells": [
    {
      "cell_type": "markdown",
      "metadata": {
        "id": "2ek2bMFkuW4z"
      },
      "source": [
        "## LASSO Models w. Cross Validation - Chimera Example"
      ]
    },
    {
      "cell_type": "markdown",
      "metadata": {
        "id": "l3yrNut_uW40"
      },
      "source": [
        "## Preamble\n",
        "Load Modules"
      ]
    },
    {
      "cell_type": "code",
      "execution_count": 1,
      "metadata": {
        "colab": {
          "base_uri": "https://localhost:8080/"
        },
        "id": "M6ZKR_8XuW41",
        "outputId": "6c480876-6fb9-470f-c875-68717e2a34e9"
      },
      "outputs": [
        {
          "output_type": "stream",
          "name": "stdout",
          "text": [
            "Module Import Completed!\n"
          ]
        }
      ],
      "source": [
        "# Import module (or part of it) with an alias\n",
        "\n",
        "#basic tools\n",
        "import pandas as pd\n",
        "import numpy as np\n",
        "import statsmodels.api as sm #for statistical analysis\n",
        "\n",
        "#prediction models we'll be using\n",
        "from sklearn.linear_model import LinearRegression\n",
        "from sklearn.linear_model import LogisticRegression\n",
        "from sklearn.linear_model import Lasso\n",
        "from sklearn.linear_model import LassoCV\n",
        "from sklearn.feature_selection import SelectFromModel\n",
        "\n",
        "# criss validation - train/test \n",
        "from sklearn.model_selection import train_test_split\n",
        "from sklearn.metrics import confusion_matrix, classification_report\n",
        "from sklearn.model_selection import cross_val_score\n",
        "\n",
        "#functions for plotting\n",
        "import matplotlib.pyplot as plt\n",
        "\n",
        "#hide warnings (lasso & logit can give you many lines of convergence warning during each iteration)\n",
        "import warnings\n",
        "warnings.filterwarnings('ignore')\n",
        "\n",
        "print ( \"Module Import Completed!\")"
      ]
    },
    {
      "cell_type": "markdown",
      "metadata": {
        "id": "1moZXqO3uW43"
      },
      "source": [
        "## Load and Check Data"
      ]
    },
    {
      "cell_type": "code",
      "execution_count": 2,
      "metadata": {
        "id": "ASpjvYoHuW44"
      },
      "outputs": [],
      "source": [
        "# load the data, note that we're using a cleaned version for this class\n",
        "url=\"https://www.dropbox.com/s/r499g9zozdn2wik/chimera_data.csv?dl=1\"\n",
        "# url=\"/*insert url to your own data here*/\"\n",
        "# this line just \"sets\" the path\n",
        "\n",
        "df = pd.read_csv(url)\n",
        "# this code is what reads the csv and turns it into a dataframe. df for short\n",
        "# /* name */ =pd.read_csv(url)"
      ]
    },
    {
      "cell_type": "code",
      "execution_count": 3,
      "metadata": {
        "colab": {
          "base_uri": "https://localhost:8080/"
        },
        "id": "vlbrC1H5uW45",
        "outputId": "a9f843ef-adbc-44fe-b19e-2bf3334cbff5"
      },
      "outputs": [
        {
          "output_type": "stream",
          "name": "stdout",
          "text": [
            "<class 'pandas.core.frame.DataFrame'>\n",
            "RangeIndex: 18132 entries, 0 to 18131\n",
            "Data columns (total 26 columns):\n",
            " #   Column                 Non-Null Count  Dtype  \n",
            "---  ------                 --------------  -----  \n",
            " 0   admin_support          18132 non-null  int64  \n",
            " 1   age                    18132 non-null  int64  \n",
            " 2   boss_survey            18132 non-null  float64\n",
            " 3   boss_tenure            18132 non-null  int64  \n",
            " 4   city_size              18132 non-null  float64\n",
            " 5   clock_in               18132 non-null  int64  \n",
            " 6   core                   18132 non-null  int64  \n",
            " 7   education              18132 non-null  int64  \n",
            " 8   gender                 18132 non-null  int64  \n",
            " 9   half_day_leaves        18132 non-null  int64  \n",
            " 10  high_potential         18132 non-null  int64  \n",
            " 11  job_satisfaction       18132 non-null  float64\n",
            " 12  kpi_performance        18132 non-null  float64\n",
            " 13  local                  18132 non-null  int64  \n",
            " 14  part_time              18132 non-null  int64  \n",
            " 15  rank                   18132 non-null  int64  \n",
            " 16  remote                 18132 non-null  int64  \n",
            " 17  salary                 18132 non-null  float64\n",
            " 18  subordinates           18132 non-null  int64  \n",
            " 19  team_size              18132 non-null  int64  \n",
            " 20  tenure                 18132 non-null  int64  \n",
            " 21  tenure_unit            18132 non-null  int64  \n",
            " 22  training               18132 non-null  int64  \n",
            " 23  variable_pay           18132 non-null  int64  \n",
            " 24  years_since_promotion  18132 non-null  int64  \n",
            " 25  exit                   18132 non-null  int64  \n",
            "dtypes: float64(5), int64(21)\n",
            "memory usage: 3.6 MB\n"
          ]
        }
      ],
      "source": [
        "#df.head()\n",
        "#df.tail()\n",
        "df.info()"
      ]
    },
    {
      "cell_type": "markdown",
      "metadata": {
        "id": "NINeH6jUuW46"
      },
      "source": [
        "Note that all columns are numerical (i.e., no strings), so we don't need to make dummy variables"
      ]
    },
    {
      "cell_type": "markdown",
      "metadata": {
        "id": "1bEF47EYuW46"
      },
      "source": [
        "### Set up DVs and IVs"
      ]
    },
    {
      "cell_type": "code",
      "execution_count": 4,
      "metadata": {
        "id": "RIF0-NBMuW46"
      },
      "outputs": [],
      "source": [
        "X = df[df.columns[0:25]] # SELECT ALL COLUMNS EXCEPT eXIT\n",
        "#X2 = df[df.columns.difference(['exit'])] # another way to do this\n",
        "y = df['exit']"
      ]
    },
    {
      "cell_type": "markdown",
      "metadata": {
        "id": "XT8mXwwbuW48"
      },
      "source": [
        "#### Custom functions - just run this cell below"
      ]
    },
    {
      "cell_type": "code",
      "execution_count": 5,
      "metadata": {
        "colab": {
          "base_uri": "https://localhost:8080/"
        },
        "id": "OC5GB9IsuW49",
        "outputId": "5b509961-00d8-4d3d-fd1e-1b4c75b246ac"
      },
      "outputs": [
        {
          "output_type": "stream",
          "name": "stdout",
          "text": [
            "Definition of Lasso Custom Functions Completed!\n"
          ]
        }
      ],
      "source": [
        "# Set of custom functions we will use for this session\n",
        "# you don't need to do anything here, just run this cell\n",
        "\n",
        "# set Number of folds\n",
        "nfolds=3\n",
        "\n",
        "# define function to plot coefficients from lasso\n",
        "def plotLassoCoef(modellasso,IV):\n",
        "    fig, ax = plt.subplots(figsize=(11, 6))\n",
        "    labels = list(IV)\n",
        "    l = np.array([range(len(modellasso.coef_)),modellasso.coef_]).transpose()\n",
        "    l = l[l[:,1].argsort()]\n",
        "    l1 = [int(k) for k in l[:,0]]\n",
        "    labels = [labels[k] for k in l1]\n",
        "    coefs = [modellasso.coef_[k] for k in l1]\n",
        "    plt.xticks(range(len(modellasso.coef_)), labels, rotation='vertical')\n",
        "    p1=plt.bar(range(len(modellasso.coef_)),coefs, label = 'Coefficient Importance')\n",
        "    plt.legend(loc=4)\n",
        "    plt.show()\n",
        "    \n",
        "# define function to print RMSE of each lasso model\n",
        "def printLassoRMSE(cvlasso,X,y):\n",
        "  Rmse=-1*cross_val_score(cvlasso,X,y, cv=nfolds,scoring='neg_root_mean_squared_error')\n",
        "  print(\"RMSE of each fold\", [round(num, 4) for num in Rmse])\n",
        "  print(\"mean RMSE of folds\", round(np.mean(Rmse),4))\n",
        "  print(\"standard deviation of RMSE of folds\", round(np.std(Rmse),4))    \n",
        "\n",
        "# define function to print selected variables of each lasso model\n",
        "def printLassoVariables(modellasso,X,y):\n",
        "  sfm = SelectFromModel(modellasso, threshold=0.001)\n",
        "  sfm.fit(X, y)\n",
        "  n_features = sfm.transform(X).shape[1]\n",
        "  importance = np.abs(modellasso.coef_)\n",
        "  idx_features = (-importance).argsort()[:n_features]\n",
        "  name_features = X.columns[idx_features]\n",
        "  print('Selected Variables:', list(name_features)) \n",
        "# for threshold see https://stackoverflow.com/questions/49345578/how-to-decide-threshold-value-in-selectfrommodel-for-selecting-features\n",
        "\n",
        "print (\"Definition of Lasso Custom Functions Completed!\")"
      ]
    },
    {
      "cell_type": "markdown",
      "metadata": {
        "id": "SD-BmVxTuW4-"
      },
      "source": [
        "### Run LASSO Model"
      ]
    },
    {
      "cell_type": "code",
      "execution_count": 6,
      "metadata": {
        "id": "mPCXJImMuW4-"
      },
      "outputs": [],
      "source": [
        "# Lasso Model Run. Repeat this cell with different alpha values\n",
        "\n",
        "# make sure to check 0 and 0.1!!\n",
        "# loose lasso:alpha = 0 includes all variables\n",
        "# tight lasso, alpha = 0.1 includes very few variables\n",
        "# start with alpha=0 and 0.1. Try other alpha values in between to see how it changes the RMSE (root mean squared error)\n",
        "\n",
        "# Note we have alredy defined our IVs (X) and DV (Y)\n",
        "# Note we don't need to include intercepts in LASSO\n",
        "\n",
        "#define the parameters (alphas and max_iter for LASSO)\n",
        "cvlasso=LassoCV(alphas =[0.0], max_iter=10000,cv=nfolds) #change nfolds for CV to whatever. we defined it as 5 above"
      ]
    },
    {
      "cell_type": "markdown",
      "metadata": {
        "id": "_66ho7DTuW4-"
      },
      "source": [
        " NOTES:\n",
        "    #cvlasso=LassoCV(alphas =[/*alpha value*/], max_iter=/*set it upto 1000*/, cv=change nfolds in step 4) \n",
        "    #changing the max_iter to something higher might get you better results, but it can significantly slow down the algo\n"
      ]
    },
    {
      "cell_type": "code",
      "execution_count": 7,
      "metadata": {
        "id": "mdZdoJ2CuW4_"
      },
      "outputs": [],
      "source": [
        "#Fit the model to the data and Plot Coefficients from Lasso\n",
        "modellasso=cvlasso.fit(X,y)"
      ]
    },
    {
      "cell_type": "code",
      "execution_count": 8,
      "metadata": {
        "colab": {
          "base_uri": "https://localhost:8080/",
          "height": 533
        },
        "id": "6JMi28EEuW4_",
        "outputId": "e933df65-9396-4204-b6cb-63b5c9f14f0f"
      },
      "outputs": [
        {
          "output_type": "stream",
          "name": "stdout",
          "text": [
            "RMSE of each fold [0.3114, 0.3129, 0.3129]\n",
            "mean RMSE of folds 0.3124\n",
            "standard deviation of RMSE of folds 0.0007\n"
          ]
        },
        {
          "output_type": "display_data",
          "data": {
            "text/plain": [
              "<Figure size 792x432 with 1 Axes>"
            ],
            "image/png": "[encoded data removed]"
          },
          "metadata": {
            "needs_background": "light"
          }
        }
      ],
      "source": [
        "# uSING FUNCTIONS WE DEFINED EARLIER\n",
        "\n",
        "# print the RMSE of each fold to check the predictive performance\n",
        "printLassoRMSE(cvlasso,X,y)\n",
        "\n",
        "# note that the plot will rearrange the variable order by coef size\n",
        "plotLassoCoef(modellasso,X)"
      ]
    },
    {
      "cell_type": "code",
      "execution_count": 9,
      "metadata": {
        "colab": {
          "base_uri": "https://localhost:8080/"
        },
        "id": "vrKxd6xauW5A",
        "outputId": "dddb752c-4355-425f-89ca-e68ac111baf3"
      },
      "outputs": [
        {
          "output_type": "stream",
          "name": "stdout",
          "text": [
            "Selected Variables: ['boss_survey', 'gender', 'half_day_leaves', 'kpi_performance', 'rank', 'tenure', 'job_satisfaction', 'core', 'tenure_unit', 'part_time', 'years_since_promotion', 'local', 'admin_support', 'clock_in', 'training', 'remote', 'high_potential', 'subordinates']\n"
          ]
        }
      ],
      "source": [
        "printLassoVariables(modellasso,X,y) # FUNCTION to see variable selected by LASSO"
      ]
    },
    {
      "cell_type": "code",
      "execution_count": 11,
      "metadata": {
        "colab": {
          "base_uri": "https://localhost:8080/"
        },
        "id": "v7ApSpDWuW5B",
        "outputId": "fa1a165f-a298-4512-a843-675e8727599d"
      },
      "outputs": [
        {
          "output_type": "stream",
          "name": "stdout",
          "text": [
            "[(0.005330063394740757, 'admin_support'), (-0.00029111234113633256, 'age'), (-0.6769125972022575, 'boss_survey'), (-0.00013467632419865465, 'boss_tenure'), (0.00035529291989674596, 'city_size'), (0.003414171908210019, 'clock_in'), (0.00813617107829916, 'core'), (2.1612001238977524e-05, 'education'), (0.03941238387845702, 'gender'), (0.020472982897737965, 'half_day_leaves'), (0.0022360624886201817, 'high_potential'), (0.008290831128862, 'job_satisfaction'), (0.018048028219817526, 'kpi_performance'), (0.005652558576024326, 'local'), (0.0061742825495914285, 'part_time'), (-0.015215084368156006, 'rank'), (-0.0023409777820554206, 'remote'), (0.00020414397763021945, 'salary'), (-0.0014315191847349212, 'subordinates'), (0.0004043919555713334, 'team_size'), (-0.008411538683581696, 'tenure'), (0.0072241079272052635, 'tenure_unit'), (-0.003266220982774282, 'training'), (0.00021168727567898974, 'variable_pay'), (0.005975075159316646, 'years_since_promotion')]\n"
          ]
        }
      ],
      "source": [
        "print(list(zip(modellasso.coef_[abs(modellasso.coef_)>0], X))) \n",
        "# show coeff values for non 0 coefficients"
      ]
    },
    {
      "cell_type": "markdown",
      "metadata": {
        "id": "LUUR8YNpuW5B"
      },
      "source": [
        "### NOTES\n",
        "Remember that if alpha = 0, then the lasso gives the least squares fit, and when alpha becomes very large, the lasso gives the null model in which all coefficient estimates equal zero.\n",
        "\n",
        "### Interpretation\n",
        "Logistic regression returns information in log odds.\n",
        "So you must first convert log odds to odds using np.exp and then take odds/(1 + odds) to get probablity.\n",
        "\n",
        "\n",
        "OR = p / (1-p)\n",
        "\n",
        "p = OR - P(OR)\n",
        "p(1+OR)=OR\n",
        "p=OR/(1+OR)\n",
        "\n",
        "coeff = log(OR)\n",
        "\n",
        "\n",
        "exp(Coeff)= OR\n",
        "\n",
        "Therefore p = exp(Coeff)/(1+exp(Coeff)\n",
        "\n",
        "see: https://stats.oarc.ucla.edu/other/mult-pkg/faq/general/faq-how-do-i-interpret-odds-ratios-in-logistic-regression/\n",
        "and\n",
        "https://stackoverflow.com/questions/51006193/interpreting-logistic-regression-feature-coefficient-values-in-sklearn"
      ]
    },
    {
      "cell_type": "code",
      "execution_count": 16,
      "metadata": {
        "colab": {
          "base_uri": "https://localhost:8080/"
        },
        "id": "50GN5GDnuW5B",
        "outputId": "640f4925-8e2e-4905-83d2-57fbf518dbce"
      },
      "outputs": [
        {
          "output_type": "stream",
          "name": "stdout",
          "text": [
            "Odds of Exit change by 0.5086475186803137 for unit change in Boss survey\n",
            "Prob. of Exit changes by [0.337154645059339] for unit change in Boss Survey\n"
          ]
        }
      ],
      "source": [
        "# so for boss survey , the coeff is -0.676\n",
        "# => odds ratio for boss survey is np.exp(-0.676)\n",
        "print(\"Odds of Exit change by\",np.exp(-0.676),\"for unit change in Boss survey\")\n",
        "# i.e., a change in boss survey by 1 unit changes odds ratio by ____\n",
        "\n",
        "print(\"Prob. of Exit changes by\", [np.exp(-0.676)/(1 + np.exp(-0.676))],\"for unit change in Boss Survey\")"
      ]
    },
    {
      "cell_type": "code",
      "source": [],
      "metadata": {
        "id": "6GRDi-23vgzT"
      },
      "execution_count": null,
      "outputs": []
    }
  ],
  "metadata": {
    "kernelspec": {
      "display_name": "Python 3",
      "language": "python",
      "name": "python3"
    },
    "language_info": {
      "codemirror_mode": {
        "name": "ipython",
        "version": 3
      },
      "file_extension": ".py",
      "mimetype": "text/x-python",
      "name": "python",
      "nbconvert_exporter": "python",
      "pygments_lexer": "ipython3",
      "version": "3.8.8"
    },
    "colab": {
      "provenance": []
    }
  },
  "nbformat": 4,
  "nbformat_minor": 0
}
