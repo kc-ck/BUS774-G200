{
  "nbformat": 4,
  "nbformat_minor": 0,
  "metadata": {
    "colab": {
      "provenance": []
    },
    "kernelspec": {
      "name": "python3",
      "display_name": "Python 3"
    },
    "language_info": {
      "name": "python"
    }
  },
  "cells": [
    {
      "cell_type": "markdown",
      "source": [
        "**In this tutorial we show how Python and its graphics libraries can be used to create the two most common types of distributional plots: histograms and boxplots**"
      ],
      "metadata": {
        "id": "a1Mo3hrri_q9"
      }
    },
    {
      "cell_type": "markdown",
      "source": [
        "#1. Preliminaries"
      ],
      "metadata": {
        "id": "0Hq6SQ6Rkg9S"
      }
    },
    {
      "cell_type": "code",
      "execution_count": 4,
      "metadata": {
        "id": "IgKAeCjfi4wg"
      },
      "outputs": [],
      "source": [
        "# Step 1: import packages with an alias\n",
        "import pandas as pd\n",
        "url =\"https://www.dropbox.com/s/dmhumwapmrqe4j0/Bank.csv?dl=1\" # You can load data directly from a dropbox link - just make sure dl=1 in the end\n",
        "bank = pd.read_csv(url) # assign data to an object (dataframe) called bank. You can name this whatever you like"
      ]
    },
    {
      "cell_type": "code",
      "source": [
        "#check the data is loaded properly\n",
        "bank.head() # returns the top 5 lines of the data\n",
        "\n"
      ],
      "metadata": {
        "colab": {
          "base_uri": "https://localhost:8080/",
          "height": 206
        },
        "id": "XgsedQiXjb6x",
        "outputId": "222e1ba1-8e4a-4f04-cb40-f37984ac8dd0"
      },
      "execution_count": 14,
      "outputs": [
        {
          "output_type": "execute_result",
          "data": {
            "text/plain": [
              "   Employee  EducLev  JobGrade  YrHired  YrBorn  Gender  YrsPrior PCJob  \\\n",
              "0         1        3         1       92      69    Male         1    No   \n",
              "1         2        1         1       81      57  Female         1    No   \n",
              "2         3        1         1       83      60  Female         0    No   \n",
              "3         4        2         1       87      55  Female         7    No   \n",
              "4         5        3         1       92      67    Male         0    No   \n",
              "\n",
              "   Salary      Mgmt  \n",
              "0    32.0  Non-Mgmt  \n",
              "1    39.1  Non-Mgmt  \n",
              "2    33.2  Non-Mgmt  \n",
              "3    30.6  Non-Mgmt  \n",
              "4    29.0  Non-Mgmt  "
            ],
            "text/html": [
              "\n",
              "  <div id=\"df-6cb1aafe-f91d-485f-8880-47a360a7808a\">\n",
              "    <div class=\"colab-df-container\">\n",
              "      <div>\n",
              "<style scoped>\n",
              "    .dataframe tbody tr th:only-of-type {\n",
              "        vertical-align: middle;\n",
              "    }\n",
              "\n",
              "    .dataframe tbody tr th {\n",
              "        vertical-align: top;\n",
              "    }\n",
              "\n",
              "    .dataframe thead th {\n",
              "        text-align: right;\n",
              "    }\n",
              "</style>\n",
              "<table border=\"1\" class=\"dataframe\">\n",
              "  <thead>\n",
              "    <tr style=\"text-align: right;\">\n",
              "      <th></th>\n",
              "      <th>Employee</th>\n",
              "      <th>EducLev</th>\n",
              "      <th>JobGrade</th>\n",
              "      <th>YrHired</th>\n",
              "      <th>YrBorn</th>\n",
              "      <th>Gender</th>\n",
              "      <th>YrsPrior</th>\n",
              "      <th>PCJob</th>\n",
              "      <th>Salary</th>\n",
              "      <th>Mgmt</th>\n",
              "    </tr>\n",
              "  </thead>\n",
              "  <tbody>\n",
              "    <tr>\n",
              "      <th>0</th>\n",
              "      <td>1</td>\n",
              "      <td>3</td>\n",
              "      <td>1</td>\n",
              "      <td>92</td>\n",
              "      <td>69</td>\n",
              "      <td>Male</td>\n",
              "      <td>1</td>\n",
              "      <td>No</td>\n",
              "      <td>32.0</td>\n",
              "      <td>Non-Mgmt</td>\n",
              "    </tr>\n",
              "    <tr>\n",
              "      <th>1</th>\n",
              "      <td>2</td>\n",
              "      <td>1</td>\n",
              "      <td>1</td>\n",
              "      <td>81</td>\n",
              "      <td>57</td>\n",
              "      <td>Female</td>\n",
              "      <td>1</td>\n",
              "      <td>No</td>\n",
              "      <td>39.1</td>\n",
              "      <td>Non-Mgmt</td>\n",
              "    </tr>\n",
              "    <tr>\n",
              "      <th>2</th>\n",
              "      <td>3</td>\n",
              "      <td>1</td>\n",
              "      <td>1</td>\n",
              "      <td>83</td>\n",
              "      <td>60</td>\n",
              "      <td>Female</td>\n",
              "      <td>0</td>\n",
              "      <td>No</td>\n",
              "      <td>33.2</td>\n",
              "      <td>Non-Mgmt</td>\n",
              "    </tr>\n",
              "    <tr>\n",
              "      <th>3</th>\n",
              "      <td>4</td>\n",
              "      <td>2</td>\n",
              "      <td>1</td>\n",
              "      <td>87</td>\n",
              "      <td>55</td>\n",
              "      <td>Female</td>\n",
              "      <td>7</td>\n",
              "      <td>No</td>\n",
              "      <td>30.6</td>\n",
              "      <td>Non-Mgmt</td>\n",
              "    </tr>\n",
              "    <tr>\n",
              "      <th>4</th>\n",
              "      <td>5</td>\n",
              "      <td>3</td>\n",
              "      <td>1</td>\n",
              "      <td>92</td>\n",
              "      <td>67</td>\n",
              "      <td>Male</td>\n",
              "      <td>0</td>\n",
              "      <td>No</td>\n",
              "      <td>29.0</td>\n",
              "      <td>Non-Mgmt</td>\n",
              "    </tr>\n",
              "  </tbody>\n",
              "</table>\n",
              "</div>\n",
              "      <button class=\"colab-df-convert\" onclick=\"convertToInteractive('df-6cb1aafe-f91d-485f-8880-47a360a7808a')\"\n",
              "              title=\"Convert this dataframe to an interactive table.\"\n",
              "              style=\"display:none;\">\n",
              "        \n",
              "  <svg xmlns=\"http://www.w3.org/2000/svg\" height=\"24px\"viewBox=\"0 0 24 24\"\n",
              "       width=\"24px\">\n",
              "    <path d=\"M0 0h24v24H0V0z\" fill=\"none\"/>\n",
              "    <path d=\"M18.56 5.44l.94 2.06.94-2.06 2.06-.94-2.06-.94-.94-2.06-.94 2.06-2.06.94zm-11 1L8.5 8.5l.94-2.06 2.06-.94-2.06-.94L8.5 2.5l-.94 2.06-2.06.94zm10 10l.94 2.06.94-2.06 2.06-.94-2.06-.94-.94-2.06-.94 2.06-2.06.94z\"/><path d=\"M17.41 7.96l-1.37-1.37c-.4-.4-.92-.59-1.43-.59-.52 0-1.04.2-1.43.59L10.3 9.45l-7.72 7.72c-.78.78-.78 2.05 0 2.83L4 21.41c.39.39.9.59 1.41.59.51 0 1.02-.2 1.41-.59l7.78-7.78 2.81-2.81c.8-.78.8-2.07 0-2.86zM5.41 20L4 18.59l7.72-7.72 1.47 1.35L5.41 20z\"/>\n",
              "  </svg>\n",
              "      </button>\n",
              "      \n",
              "  <style>\n",
              "    .colab-df-container {\n",
              "      display:flex;\n",
              "      flex-wrap:wrap;\n",
              "      gap: 12px;\n",
              "    }\n",
              "\n",
              "    .colab-df-convert {\n",
              "      background-color: #E8F0FE;\n",
              "      border: none;\n",
              "      border-radius: 50%;\n",
              "      cursor: pointer;\n",
              "      display: none;\n",
              "      fill: #1967D2;\n",
              "      height: 32px;\n",
              "      padding: 0 0 0 0;\n",
              "      width: 32px;\n",
              "    }\n",
              "\n",
              "    .colab-df-convert:hover {\n",
              "      background-color: #E2EBFA;\n",
              "      box-shadow: 0px 1px 2px rgba(60, 64, 67, 0.3), 0px 1px 3px 1px rgba(60, 64, 67, 0.15);\n",
              "      fill: #174EA6;\n",
              "    }\n",
              "\n",
              "    [theme=dark] .colab-df-convert {\n",
              "      background-color: #3B4455;\n",
              "      fill: #D2E3FC;\n",
              "    }\n",
              "\n",
              "    [theme=dark] .colab-df-convert:hover {\n",
              "      background-color: #434B5C;\n",
              "      box-shadow: 0px 1px 3px 1px rgba(0, 0, 0, 0.15);\n",
              "      filter: drop-shadow(0px 1px 2px rgba(0, 0, 0, 0.3));\n",
              "      fill: #FFFFFF;\n",
              "    }\n",
              "  </style>\n",
              "\n",
              "      <script>\n",
              "        const buttonEl =\n",
              "          document.querySelector('#df-6cb1aafe-f91d-485f-8880-47a360a7808a button.colab-df-convert');\n",
              "        buttonEl.style.display =\n",
              "          google.colab.kernel.accessAllowed ? 'block' : 'none';\n",
              "\n",
              "        async function convertToInteractive(key) {\n",
              "          const element = document.querySelector('#df-6cb1aafe-f91d-485f-8880-47a360a7808a');\n",
              "          const dataTable =\n",
              "            await google.colab.kernel.invokeFunction('convertToInteractive',\n",
              "                                                     [key], {});\n",
              "          if (!dataTable) return;\n",
              "\n",
              "          const docLinkHtml = 'Like what you see? Visit the ' +\n",
              "            '<a target=\"_blank\" href=https://colab.research.google.com/notebooks/data_table.ipynb>data table notebook</a>'\n",
              "            + ' to learn more about interactive tables.';\n",
              "          element.innerHTML = '';\n",
              "          dataTable['output_type'] = 'display_data';\n",
              "          await google.colab.output.renderOutput(dataTable, element);\n",
              "          const docLink = document.createElement('div');\n",
              "          docLink.innerHTML = docLinkHtml;\n",
              "          element.appendChild(docLink);\n",
              "        }\n",
              "      </script>\n",
              "    </div>\n",
              "  </div>\n",
              "  "
            ]
          },
          "metadata": {},
          "execution_count": 14
        }
      ]
    },
    {
      "cell_type": "code",
      "source": [
        "bank.tail() # returns the bottom 5 lines of data"
      ],
      "metadata": {
        "id": "vgNZb-0AkUIY"
      },
      "execution_count": null,
      "outputs": []
    },
    {
      "cell_type": "markdown",
      "source": [
        "# 2. Basic Descriptive Stats"
      ],
      "metadata": {
        "id": "7PXGRHfAkVuZ"
      }
    },
    {
      "cell_type": "markdown",
      "source": [
        "Pandas provides basic descriptive statistic functions as methods of the Series object. Recall that each DataFrame object consists of multiple Series (columns). Thus, the average salary for bank employees can be found as:"
      ],
      "metadata": {
        "id": "dtRJaTceklzd"
      }
    },
    {
      "cell_type": "code",
      "source": [
        "bank['Salary'].mean()"
      ],
      "metadata": {
        "colab": {
          "base_uri": "https://localhost:8080/"
        },
        "id": "RBLPIQqMkpIw",
        "outputId": "c4f9e579-8df8-4743-dbcf-3918c6dd6707"
      },
      "execution_count": 9,
      "outputs": [
        {
          "output_type": "execute_result",
          "data": {
            "text/plain": [
              "39.92192307692307"
            ]
          },
          "metadata": {},
          "execution_count": 9
        }
      ]
    },
    {
      "cell_type": "markdown",
      "source": [
        "Similarly, using a variable to save some typing:"
      ],
      "metadata": {
        "id": "EyaIpoAYkuW9"
      }
    },
    {
      "cell_type": "code",
      "source": [
        "sal = bank['Salary'] # save a variable or object called sal as a shortcut\n",
        "sal.min(), sal.mean(), sal.median(), sal.max()  # calculate min, mean, median, etc.. on this variable sal"
      ],
      "metadata": {
        "colab": {
          "base_uri": "https://localhost:8080/"
        },
        "id": "rr07a-Zukwj7",
        "outputId": "8889f83e-1806-4007-f18f-eaf1f0d6392d"
      },
      "execution_count": 10,
      "outputs": [
        {
          "output_type": "execute_result",
          "data": {
            "text/plain": [
              "(26.7, 39.92192307692307, 37.0, 97.0)"
            ]
          },
          "metadata": {},
          "execution_count": 10
        }
      ]
    },
    {
      "cell_type": "markdown",
      "source": [
        "To get desc statistical summary of all numerical columns using the describe() method:"
      ],
      "metadata": {
        "id": "_899bzkXk8Qb"
      }
    },
    {
      "cell_type": "code",
      "source": [
        "bank.describe() # summary stats for all variables in your data"
      ],
      "metadata": {
        "id": "hJUzl7ayk_k0"
      },
      "execution_count": null,
      "outputs": []
    },
    {
      "cell_type": "markdown",
      "source": [
        "#3. Visualizing Distributions -  histograms and boxplots\n",
        "There are multiple packages that do this - i'm showing you Seaborn here"
      ],
      "metadata": {
        "id": "ud0FXastlHPL"
      }
    },
    {
      "cell_type": "code",
      "source": [
        "# load the library\n",
        "import seaborn as sns\n"
      ],
      "metadata": {
        "id": "s65A6no8lSxy"
      },
      "execution_count": 12,
      "outputs": []
    },
    {
      "cell_type": "markdown",
      "source": [
        "Creating Histograms -- use the histplot() function"
      ],
      "metadata": {
        "id": "8CpYrKRilhOn"
      }
    },
    {
      "cell_type": "code",
      "source": [
        "# create a histogram for Salary\n",
        "sns.histplot(x=bank['Salary'])"
      ],
      "metadata": {
        "colab": {
          "base_uri": "https://localhost:8080/",
          "height": 297
        },
        "id": "WOlbaGWvloRO",
        "outputId": "1a6b6d62-42e2-4b5b-fa9a-f4e925697de5"
      },
      "execution_count": 13,
      "outputs": [
        {
          "output_type": "execute_result",
          "data": {
            "text/plain": [
              "<matplotlib.axes._subplots.AxesSubplot at 0x7f33ba140d00>"
            ]
          },
          "metadata": {},
          "execution_count": 13
        },
        {
          "output_type": "display_data",
          "data": {
            "text/plain": [
              "<Figure size 432x288 with 1 Axes>"
            ],
            "image/png": "[encoded data removed]"
          },
          "metadata": {
            "needs_background": "light"
          }
        }
      ]
    },
    {
      "cell_type": "code",
      "source": [
        "# Now repeat the same for another variable, say education level\n",
        "# replace the variable from the last command"
      ],
      "metadata": {
        "id": "Q7lZ3DanlyhG"
      },
      "execution_count": null,
      "outputs": []
    },
    {
      "cell_type": "markdown",
      "source": [
        "A few things to notice about this output\n",
        "\n",
        "    The histplot() method returns an AxesSubplot value. Since we don’t need this (or even know what it is), we can clean-up our output in ending each Seaborn (or Matplotlib) call with a semicolon.\n",
        "\n",
        "    Seaborn guesses at a good number of bins. But recall that the point of a histogram is to get a rough sense of the shape of the distribution of the variable. We can certainly change the number of bins (to say 10 or 12), but it is not critical.\n",
        "\n",
        "We can pass some arguments to the method to get a more elaborate histogram. Turning on the kernel density estimate (kde=True) gives us a smoothed “kernel density” line, to get the pdf"
      ],
      "metadata": {
        "id": "SHqUEDbnmBQJ"
      }
    },
    {
      "cell_type": "code",
      "source": [
        "sns.histplot(x=bank['Salary'], bins=30, kde=True);"
      ],
      "metadata": {
        "colab": {
          "base_uri": "https://localhost:8080/",
          "height": 279
        },
        "id": "ScjUNasBmJBA",
        "outputId": "bebcd4c4-5f7c-4a9a-9a93-e7af9bbf544b"
      },
      "execution_count": 17,
      "outputs": [
        {
          "output_type": "display_data",
          "data": {
            "text/plain": [
              "<Figure size 432x288 with 1 Axes>"
            ],
            "image/png": "[encoded data removed]"
          },
          "metadata": {
            "needs_background": "light"
          }
        }
      ]
    },
    {
      "cell_type": "markdown",
      "source": [
        "Of course, it is possible to change colors, and so on"
      ],
      "metadata": {
        "id": "hI6f1HzHmROq"
      }
    },
    {
      "cell_type": "code",
      "source": [
        "sns.histplot(x=bank['Salary'], \n",
        "             bins=10, kde=True,\n",
        "             stat=\"probability\", # choosing probability on y axis instead of count\n",
        "             color='green' \n",
        "            );"
      ],
      "metadata": {
        "colab": {
          "base_uri": "https://localhost:8080/",
          "height": 279
        },
        "id": "uipzsxavmVca",
        "outputId": "07c06229-056b-4257-e5bc-ed2942f807a6"
      },
      "execution_count": 19,
      "outputs": [
        {
          "output_type": "display_data",
          "data": {
            "text/plain": [
              "<Figure size 432x288 with 1 Axes>"
            ],
            "image/png": "[encoded data removed]"
          },
          "metadata": {
            "needs_background": "light"
          }
        }
      ]
    },
    {
      "cell_type": "markdown",
      "source": [
        "Now let's create a boxplot!"
      ],
      "metadata": {
        "id": "wjiQtuwemlYd"
      }
    },
    {
      "cell_type": "code",
      "source": [
        "sns.boxplot(x=bank['Salary']);"
      ],
      "metadata": {
        "colab": {
          "base_uri": "https://localhost:8080/",
          "height": 279
        },
        "id": "515ht07EmnOP",
        "outputId": "8ea09c9f-6371-4ebb-efc1-d4d61f2dcd67"
      },
      "execution_count": 20,
      "outputs": [
        {
          "output_type": "display_data",
          "data": {
            "text/plain": [
              "<Figure size 432x288 with 1 Axes>"
            ],
            "image/png": "[encoded data removed]"
          },
          "metadata": {
            "needs_background": "light"
          }
        }
      ]
    },
    {
      "cell_type": "code",
      "source": [
        "# if you want to change orientation,just use y variable instead of x\n",
        "sns.boxplot(y=bank['Salary'],  color='lightgreen', showmeans=True); # showmeans shows you the mean (triangle point) wheras box plot shows median"
      ],
      "metadata": {
        "colab": {
          "base_uri": "https://localhost:8080/",
          "height": 254
        },
        "id": "aU2woZ4JmsHj",
        "outputId": "31d82836-23d7-456f-de95-01124eb7a640"
      },
      "execution_count": 23,
      "outputs": [
        {
          "output_type": "display_data",
          "data": {
            "text/plain": [
              "<Figure size 432x288 with 1 Axes>"
            ],
            "image/png": "[encoded data removed]"
          },
          "metadata": {
            "needs_background": "light"
          }
        }
      ]
    },
    {
      "cell_type": "markdown",
      "source": [
        "#4. Analyzing multiple Variables"
      ],
      "metadata": {
        "id": "xc2xlWWdnJQp"
      }
    },
    {
      "cell_type": "markdown",
      "source": [
        "Say we want to compare distributions across variables, "
      ],
      "metadata": {
        "id": "WR-rIsbbnQob"
      }
    },
    {
      "cell_type": "code",
      "source": [
        "# e.g., quick comparison of the distribution of salary by gender.\n",
        "sns.boxplot(y=bank['Salary'], x=bank['Gender'], showmeans=True);"
      ],
      "metadata": {
        "id": "hYaWz4SZnI5m"
      },
      "execution_count": null,
      "outputs": []
    },
    {
      "cell_type": "code",
      "source": [
        "# now let's repeat by another variable - job grade\n",
        "sns.boxplot(y=bank['Salary'], x=bank['JobGrade'].astype('category'), showmeans=True);"
      ],
      "metadata": {
        "id": "xB78y6Juned4"
      },
      "execution_count": null,
      "outputs": []
    },
    {
      "cell_type": "markdown",
      "source": [
        "We could also use 'faceted' visuals - breaking up visualizations by a facet"
      ],
      "metadata": {
        "id": "Exlp_i1Xny_z"
      }
    },
    {
      "cell_type": "code",
      "source": [
        "#e.g., histogram of salary for each gender"
      ],
      "metadata": {
        "id": "dI5JtmU5n6sm"
      },
      "execution_count": null,
      "outputs": []
    },
    {
      "cell_type": "code",
      "source": [
        "sns.displot(x='Salary', row='Gender', data=bank, linewidth=0, kde=True);"
      ],
      "metadata": {
        "id": "vLemnTnvn-1o"
      },
      "execution_count": null,
      "outputs": []
    },
    {
      "cell_type": "code",
      "source": [
        "# to get an overlayed figure\n",
        "sns.histplot(x='Salary', hue='Gender', data=bank, linewidth=0, kde=True);"
      ],
      "metadata": {
        "colab": {
          "base_uri": "https://localhost:8080/",
          "height": 279
        },
        "id": "9FFi3qBRoGMA",
        "outputId": "204cb62d-3b19-48be-9297-bda6f947c09b"
      },
      "execution_count": 30,
      "outputs": [
        {
          "output_type": "display_data",
          "data": {
            "text/plain": [
              "<Figure size 432x288 with 1 Axes>"
            ],
            "image/png": "[encoded data removed]"
          },
          "metadata": {
            "needs_background": "light"
          }
        }
      ]
    },
    {
      "cell_type": "code",
      "source": [
        "# or you could just plot the density plots\n",
        "sns.kdeplot(x='Salary', hue='Gender', data=bank, shade=True); # you are choosing to color by variable gender"
      ],
      "metadata": {
        "colab": {
          "base_uri": "https://localhost:8080/",
          "height": 279
        },
        "id": "QoAHMgqyoQW6",
        "outputId": "fd2dc794-d451-4181-8413-6c5b56c2701e"
      },
      "execution_count": 31,
      "outputs": [
        {
          "output_type": "display_data",
          "data": {
            "text/plain": [
              "<Figure size 432x288 with 1 Axes>"
            ],
            "image/png": "[encoded data removed]"
          },
          "metadata": {
            "needs_background": "light"
          }
        }
      ]
    }
  ]
}