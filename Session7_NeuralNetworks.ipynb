{
  "nbformat": 4,
  "nbformat_minor": 0,
  "metadata": {
    "colab": {
      "provenance": [],
      "authorship_tag": "ABX9TyOM+UoBNXEPeqHLWQMmSafH"
    },
    "kernelspec": {
      "name": "python3",
      "display_name": "Python 3"
    },
    "language_info": {
      "name": "python"
    }
  },
  "cells": [
    {
      "cell_type": "markdown",
      "source": [
        "# Artificial Neural Networks\n",
        "\n",
        "Source: Adopted from https://www.pluralsight.com/guides/machine-learning-neural-networks-scikit-learn"
      ],
      "metadata": {
        "id": "lejoxQlEPFNf"
      }
    },
    {
      "cell_type": "markdown",
      "source": [
        "### Step 1- Loading the Required Libraries and Modules"
      ],
      "metadata": {
        "id": "7_xETkNWHAr2"
      }
    },
    {
      "cell_type": "code",
      "execution_count": 1,
      "metadata": {
        "id": "THmLkx9iEwld"
      },
      "outputs": [],
      "source": [
        "# Import required libraries\n",
        "\n",
        "import pandas as pd\n",
        "import numpy as np \n",
        "import matplotlib.pyplot as plt\n",
        "import sklearn\n",
        "from sklearn.neural_network import MLPClassifier\n",
        "from sklearn.neural_network import MLPRegressor\n",
        "\n",
        "# Import necessary modules\n",
        "from sklearn.model_selection import train_test_split\n",
        "from sklearn.metrics import mean_squared_error\n",
        "from math import sqrt\n",
        "from sklearn.metrics import r2_score"
      ]
    },
    {
      "cell_type": "markdown",
      "source": [
        "### Step 2 - Reading the Data and Performing Basic Data Checks\n",
        "\n",
        "dataset source: https://www.kaggle.com/datasets/johndasilva/diabetes/versions/1?resource=download "
      ],
      "metadata": {
        "id": "q9ss4uoFHEm8"
      }
    },
    {
      "cell_type": "code",
      "source": [
        "df = pd.read_csv('https://www.dropbox.com/s/ld8w9966o5o10ox/diabetes.csv?dl=1') \n",
        "print(df.shape)\n",
        "df.describe().transpose()"
      ],
      "metadata": {
        "colab": {
          "base_uri": "https://localhost:8080/",
          "height": 350
        },
        "id": "mTNumSlbHDEA",
        "outputId": "2e26e260-9447-43d7-feba-8612f859b468"
      },
      "execution_count": 2,
      "outputs": [
        {
          "output_type": "stream",
          "name": "stdout",
          "text": [
            "(2000, 9)\n"
          ]
        },
        {
          "output_type": "execute_result",
          "data": {
            "text/plain": [
              "                           count       mean         std     min     25%  \\\n",
              "Pregnancies               2000.0    3.70350    3.306063   0.000   1.000   \n",
              "Glucose                   2000.0  121.18250   32.068636   0.000  99.000   \n",
              "BloodPressure             2000.0   69.14550   19.188315   0.000  63.500   \n",
              "SkinThickness             2000.0   20.93500   16.103243   0.000   0.000   \n",
              "Insulin                   2000.0   80.25400  111.180534   0.000   0.000   \n",
              "BMI                       2000.0   32.19300    8.149901   0.000  27.375   \n",
              "DiabetesPedigreeFunction  2000.0    0.47093    0.323553   0.078   0.244   \n",
              "Age                       2000.0   33.09050   11.786423  21.000  24.000   \n",
              "Outcome                   2000.0    0.34200    0.474498   0.000   0.000   \n",
              "\n",
              "                              50%      75%     max  \n",
              "Pregnancies                 3.000    6.000   17.00  \n",
              "Glucose                   117.000  141.000  199.00  \n",
              "BloodPressure              72.000   80.000  122.00  \n",
              "SkinThickness              23.000   32.000  110.00  \n",
              "Insulin                    40.000  130.000  744.00  \n",
              "BMI                        32.300   36.800   80.60  \n",
              "DiabetesPedigreeFunction    0.376    0.624    2.42  \n",
              "Age                        29.000   40.000   81.00  \n",
              "Outcome                     0.000    1.000    1.00  "
            ],
            "text/html": [
              "\n",
              "  <div id=\"df-86004055-80c9-416f-8a93-51eb8ec2f0bc\">\n",
              "    <div class=\"colab-df-container\">\n",
              "      <div>\n",
              "<style scoped>\n",
              "    .dataframe tbody tr th:only-of-type {\n",
              "        vertical-align: middle;\n",
              "    }\n",
              "\n",
              "    .dataframe tbody tr th {\n",
              "        vertical-align: top;\n",
              "    }\n",
              "\n",
              "    .dataframe thead th {\n",
              "        text-align: right;\n",
              "    }\n",
              "</style>\n",
              "<table border=\"1\" class=\"dataframe\">\n",
              "  <thead>\n",
              "    <tr style=\"text-align: right;\">\n",
              "      <th></th>\n",
              "      <th>count</th>\n",
              "      <th>mean</th>\n",
              "      <th>std</th>\n",
              "      <th>min</th>\n",
              "      <th>25%</th>\n",
              "      <th>50%</th>\n",
              "      <th>75%</th>\n",
              "      <th>max</th>\n",
              "    </tr>\n",
              "  </thead>\n",
              "  <tbody>\n",
              "    <tr>\n",
              "      <th>Pregnancies</th>\n",
              "      <td>2000.0</td>\n",
              "      <td>3.70350</td>\n",
              "      <td>3.306063</td>\n",
              "      <td>0.000</td>\n",
              "      <td>1.000</td>\n",
              "      <td>3.000</td>\n",
              "      <td>6.000</td>\n",
              "      <td>17.00</td>\n",
              "    </tr>\n",
              "    <tr>\n",
              "      <th>Glucose</th>\n",
              "      <td>2000.0</td>\n",
              "      <td>121.18250</td>\n",
              "      <td>32.068636</td>\n",
              "      <td>0.000</td>\n",
              "      <td>99.000</td>\n",
              "      <td>117.000</td>\n",
              "      <td>141.000</td>\n",
              "      <td>199.00</td>\n",
              "    </tr>\n",
              "    <tr>\n",
              "      <th>BloodPressure</th>\n",
              "      <td>2000.0</td>\n",
              "      <td>69.14550</td>\n",
              "      <td>19.188315</td>\n",
              "      <td>0.000</td>\n",
              "      <td>63.500</td>\n",
              "      <td>72.000</td>\n",
              "      <td>80.000</td>\n",
              "      <td>122.00</td>\n",
              "    </tr>\n",
              "    <tr>\n",
              "      <th>SkinThickness</th>\n",
              "      <td>2000.0</td>\n",
              "      <td>20.93500</td>\n",
              "      <td>16.103243</td>\n",
              "      <td>0.000</td>\n",
              "      <td>0.000</td>\n",
              "      <td>23.000</td>\n",
              "      <td>32.000</td>\n",
              "      <td>110.00</td>\n",
              "    </tr>\n",
              "    <tr>\n",
              "      <th>Insulin</th>\n",
              "      <td>2000.0</td>\n",
              "      <td>80.25400</td>\n",
              "      <td>111.180534</td>\n",
              "      <td>0.000</td>\n",
              "      <td>0.000</td>\n",
              "      <td>40.000</td>\n",
              "      <td>130.000</td>\n",
              "      <td>744.00</td>\n",
              "    </tr>\n",
              "    <tr>\n",
              "      <th>BMI</th>\n",
              "      <td>2000.0</td>\n",
              "      <td>32.19300</td>\n",
              "      <td>8.149901</td>\n",
              "      <td>0.000</td>\n",
              "      <td>27.375</td>\n",
              "      <td>32.300</td>\n",
              "      <td>36.800</td>\n",
              "      <td>80.60</td>\n",
              "    </tr>\n",
              "    <tr>\n",
              "      <th>DiabetesPedigreeFunction</th>\n",
              "      <td>2000.0</td>\n",
              "      <td>0.47093</td>\n",
              "      <td>0.323553</td>\n",
              "      <td>0.078</td>\n",
              "      <td>0.244</td>\n",
              "      <td>0.376</td>\n",
              "      <td>0.624</td>\n",
              "      <td>2.42</td>\n",
              "    </tr>\n",
              "    <tr>\n",
              "      <th>Age</th>\n",
              "      <td>2000.0</td>\n",
              "      <td>33.09050</td>\n",
              "      <td>11.786423</td>\n",
              "      <td>21.000</td>\n",
              "      <td>24.000</td>\n",
              "      <td>29.000</td>\n",
              "      <td>40.000</td>\n",
              "      <td>81.00</td>\n",
              "    </tr>\n",
              "    <tr>\n",
              "      <th>Outcome</th>\n",
              "      <td>2000.0</td>\n",
              "      <td>0.34200</td>\n",
              "      <td>0.474498</td>\n",
              "      <td>0.000</td>\n",
              "      <td>0.000</td>\n",
              "      <td>0.000</td>\n",
              "      <td>1.000</td>\n",
              "      <td>1.00</td>\n",
              "    </tr>\n",
              "  </tbody>\n",
              "</table>\n",
              "</div>\n",
              "      <button class=\"colab-df-convert\" onclick=\"convertToInteractive('df-86004055-80c9-416f-8a93-51eb8ec2f0bc')\"\n",
              "              title=\"Convert this dataframe to an interactive table.\"\n",
              "              style=\"display:none;\">\n",
              "        \n",
              "  <svg xmlns=\"http://www.w3.org/2000/svg\" height=\"24px\"viewBox=\"0 0 24 24\"\n",
              "       width=\"24px\">\n",
              "    <path d=\"M0 0h24v24H0V0z\" fill=\"none\"/>\n",
              "    <path d=\"M18.56 5.44l.94 2.06.94-2.06 2.06-.94-2.06-.94-.94-2.06-.94 2.06-2.06.94zm-11 1L8.5 8.5l.94-2.06 2.06-.94-2.06-.94L8.5 2.5l-.94 2.06-2.06.94zm10 10l.94 2.06.94-2.06 2.06-.94-2.06-.94-.94-2.06-.94 2.06-2.06.94z\"/><path d=\"M17.41 7.96l-1.37-1.37c-.4-.4-.92-.59-1.43-.59-.52 0-1.04.2-1.43.59L10.3 9.45l-7.72 7.72c-.78.78-.78 2.05 0 2.83L4 21.41c.39.39.9.59 1.41.59.51 0 1.02-.2 1.41-.59l7.78-7.78 2.81-2.81c.8-.78.8-2.07 0-2.86zM5.41 20L4 18.59l7.72-7.72 1.47 1.35L5.41 20z\"/>\n",
              "  </svg>\n",
              "      </button>\n",
              "      \n",
              "  <style>\n",
              "    .colab-df-container {\n",
              "      display:flex;\n",
              "      flex-wrap:wrap;\n",
              "      gap: 12px;\n",
              "    }\n",
              "\n",
              "    .colab-df-convert {\n",
              "      background-color: #E8F0FE;\n",
              "      border: none;\n",
              "      border-radius: 50%;\n",
              "      cursor: pointer;\n",
              "      display: none;\n",
              "      fill: #1967D2;\n",
              "      height: 32px;\n",
              "      padding: 0 0 0 0;\n",
              "      width: 32px;\n",
              "    }\n",
              "\n",
              "    .colab-df-convert:hover {\n",
              "      background-color: #E2EBFA;\n",
              "      box-shadow: 0px 1px 2px rgba(60, 64, 67, 0.3), 0px 1px 3px 1px rgba(60, 64, 67, 0.15);\n",
              "      fill: #174EA6;\n",
              "    }\n",
              "\n",
              "    [theme=dark] .colab-df-convert {\n",
              "      background-color: #3B4455;\n",
              "      fill: #D2E3FC;\n",
              "    }\n",
              "\n",
              "    [theme=dark] .colab-df-convert:hover {\n",
              "      background-color: #434B5C;\n",
              "      box-shadow: 0px 1px 3px 1px rgba(0, 0, 0, 0.15);\n",
              "      filter: drop-shadow(0px 1px 2px rgba(0, 0, 0, 0.3));\n",
              "      fill: #FFFFFF;\n",
              "    }\n",
              "  </style>\n",
              "\n",
              "      <script>\n",
              "        const buttonEl =\n",
              "          document.querySelector('#df-86004055-80c9-416f-8a93-51eb8ec2f0bc button.colab-df-convert');\n",
              "        buttonEl.style.display =\n",
              "          google.colab.kernel.accessAllowed ? 'block' : 'none';\n",
              "\n",
              "        async function convertToInteractive(key) {\n",
              "          const element = document.querySelector('#df-86004055-80c9-416f-8a93-51eb8ec2f0bc');\n",
              "          const dataTable =\n",
              "            await google.colab.kernel.invokeFunction('convertToInteractive',\n",
              "                                                     [key], {});\n",
              "          if (!dataTable) return;\n",
              "\n",
              "          const docLinkHtml = 'Like what you see? Visit the ' +\n",
              "            '<a target=\"_blank\" href=https://colab.research.google.com/notebooks/data_table.ipynb>data table notebook</a>'\n",
              "            + ' to learn more about interactive tables.';\n",
              "          element.innerHTML = '';\n",
              "          dataTable['output_type'] = 'display_data';\n",
              "          await google.colab.output.renderOutput(dataTable, element);\n",
              "          const docLink = document.createElement('div');\n",
              "          docLink.innerHTML = docLinkHtml;\n",
              "          element.appendChild(docLink);\n",
              "        }\n",
              "      </script>\n",
              "    </div>\n",
              "  </div>\n",
              "  "
            ]
          },
          "metadata": {},
          "execution_count": 2
        }
      ]
    },
    {
      "cell_type": "markdown",
      "source": [
        "### Step 3 - Creating Arrays for the Features and the Response Variable"
      ],
      "metadata": {
        "id": "YSfd4AnaJR3X"
      }
    },
    {
      "cell_type": "code",
      "source": [
        "target_column = ['Outcome']  # Create Object of Target Variable\n",
        "predictors = list(set(list(df.columns))-set(target_column)) # List all features excewpt target variable\n",
        "df[predictors] = df[predictors]/df[predictors].max() # Normalize predictors, i.e., scale b/w 0 and 1\n",
        "df.describe().transpose() # see the data to check all features are between 0 and 1"
      ],
      "metadata": {
        "colab": {
          "base_uri": "https://localhost:8080/",
          "height": 332
        },
        "id": "2K9zusliIJbO",
        "outputId": "e27731e2-bacd-4899-a7bb-ea73ae2d8b90"
      },
      "execution_count": 3,
      "outputs": [
        {
          "output_type": "execute_result",
          "data": {
            "text/plain": [
              "                           count      mean       std       min       25%  \\\n",
              "Pregnancies               2000.0  0.217853  0.194474  0.000000  0.058824   \n",
              "Glucose                   2000.0  0.608957  0.161149  0.000000  0.497487   \n",
              "BloodPressure             2000.0  0.566766  0.157281  0.000000  0.520492   \n",
              "SkinThickness             2000.0  0.190318  0.146393  0.000000  0.000000   \n",
              "Insulin                   2000.0  0.107868  0.149436  0.000000  0.000000   \n",
              "BMI                       2000.0  0.399417  0.101115  0.000000  0.339640   \n",
              "DiabetesPedigreeFunction  2000.0  0.194599  0.133699  0.032231  0.100826   \n",
              "Age                       2000.0  0.408525  0.145511  0.259259  0.296296   \n",
              "Outcome                   2000.0  0.342000  0.474498  0.000000  0.000000   \n",
              "\n",
              "                               50%       75%  max  \n",
              "Pregnancies               0.176471  0.352941  1.0  \n",
              "Glucose                   0.587940  0.708543  1.0  \n",
              "BloodPressure             0.590164  0.655738  1.0  \n",
              "SkinThickness             0.209091  0.290909  1.0  \n",
              "Insulin                   0.053763  0.174731  1.0  \n",
              "BMI                       0.400744  0.456576  1.0  \n",
              "DiabetesPedigreeFunction  0.155372  0.257851  1.0  \n",
              "Age                       0.358025  0.493827  1.0  \n",
              "Outcome                   0.000000  1.000000  1.0  "
            ],
            "text/html": [
              "\n",
              "  <div id=\"df-01467540-8942-4395-b1a8-eddf7aa3b431\">\n",
              "    <div class=\"colab-df-container\">\n",
              "      <div>\n",
              "<style scoped>\n",
              "    .dataframe tbody tr th:only-of-type {\n",
              "        vertical-align: middle;\n",
              "    }\n",
              "\n",
              "    .dataframe tbody tr th {\n",
              "        vertical-align: top;\n",
              "    }\n",
              "\n",
              "    .dataframe thead th {\n",
              "        text-align: right;\n",
              "    }\n",
              "</style>\n",
              "<table border=\"1\" class=\"dataframe\">\n",
              "  <thead>\n",
              "    <tr style=\"text-align: right;\">\n",
              "      <th></th>\n",
              "      <th>count</th>\n",
              "      <th>mean</th>\n",
              "      <th>std</th>\n",
              "      <th>min</th>\n",
              "      <th>25%</th>\n",
              "      <th>50%</th>\n",
              "      <th>75%</th>\n",
              "      <th>max</th>\n",
              "    </tr>\n",
              "  </thead>\n",
              "  <tbody>\n",
              "    <tr>\n",
              "      <th>Pregnancies</th>\n",
              "      <td>2000.0</td>\n",
              "      <td>0.217853</td>\n",
              "      <td>0.194474</td>\n",
              "      <td>0.000000</td>\n",
              "      <td>0.058824</td>\n",
              "      <td>0.176471</td>\n",
              "      <td>0.352941</td>\n",
              "      <td>1.0</td>\n",
              "    </tr>\n",
              "    <tr>\n",
              "      <th>Glucose</th>\n",
              "      <td>2000.0</td>\n",
              "      <td>0.608957</td>\n",
              "      <td>0.161149</td>\n",
              "      <td>0.000000</td>\n",
              "      <td>0.497487</td>\n",
              "      <td>0.587940</td>\n",
              "      <td>0.708543</td>\n",
              "      <td>1.0</td>\n",
              "    </tr>\n",
              "    <tr>\n",
              "      <th>BloodPressure</th>\n",
              "      <td>2000.0</td>\n",
              "      <td>0.566766</td>\n",
              "      <td>0.157281</td>\n",
              "      <td>0.000000</td>\n",
              "      <td>0.520492</td>\n",
              "      <td>0.590164</td>\n",
              "      <td>0.655738</td>\n",
              "      <td>1.0</td>\n",
              "    </tr>\n",
              "    <tr>\n",
              "      <th>SkinThickness</th>\n",
              "      <td>2000.0</td>\n",
              "      <td>0.190318</td>\n",
              "      <td>0.146393</td>\n",
              "      <td>0.000000</td>\n",
              "      <td>0.000000</td>\n",
              "      <td>0.209091</td>\n",
              "      <td>0.290909</td>\n",
              "      <td>1.0</td>\n",
              "    </tr>\n",
              "    <tr>\n",
              "      <th>Insulin</th>\n",
              "      <td>2000.0</td>\n",
              "      <td>0.107868</td>\n",
              "      <td>0.149436</td>\n",
              "      <td>0.000000</td>\n",
              "      <td>0.000000</td>\n",
              "      <td>0.053763</td>\n",
              "      <td>0.174731</td>\n",
              "      <td>1.0</td>\n",
              "    </tr>\n",
              "    <tr>\n",
              "      <th>BMI</th>\n",
              "      <td>2000.0</td>\n",
              "      <td>0.399417</td>\n",
              "      <td>0.101115</td>\n",
              "      <td>0.000000</td>\n",
              "      <td>0.339640</td>\n",
              "      <td>0.400744</td>\n",
              "      <td>0.456576</td>\n",
              "      <td>1.0</td>\n",
              "    </tr>\n",
              "    <tr>\n",
              "      <th>DiabetesPedigreeFunction</th>\n",
              "      <td>2000.0</td>\n",
              "      <td>0.194599</td>\n",
              "      <td>0.133699</td>\n",
              "      <td>0.032231</td>\n",
              "      <td>0.100826</td>\n",
              "      <td>0.155372</td>\n",
              "      <td>0.257851</td>\n",
              "      <td>1.0</td>\n",
              "    </tr>\n",
              "    <tr>\n",
              "      <th>Age</th>\n",
              "      <td>2000.0</td>\n",
              "      <td>0.408525</td>\n",
              "      <td>0.145511</td>\n",
              "      <td>0.259259</td>\n",
              "      <td>0.296296</td>\n",
              "      <td>0.358025</td>\n",
              "      <td>0.493827</td>\n",
              "      <td>1.0</td>\n",
              "    </tr>\n",
              "    <tr>\n",
              "      <th>Outcome</th>\n",
              "      <td>2000.0</td>\n",
              "      <td>0.342000</td>\n",
              "      <td>0.474498</td>\n",
              "      <td>0.000000</td>\n",
              "      <td>0.000000</td>\n",
              "      <td>0.000000</td>\n",
              "      <td>1.000000</td>\n",
              "      <td>1.0</td>\n",
              "    </tr>\n",
              "  </tbody>\n",
              "</table>\n",
              "</div>\n",
              "      <button class=\"colab-df-convert\" onclick=\"convertToInteractive('df-01467540-8942-4395-b1a8-eddf7aa3b431')\"\n",
              "              title=\"Convert this dataframe to an interactive table.\"\n",
              "              style=\"display:none;\">\n",
              "        \n",
              "  <svg xmlns=\"http://www.w3.org/2000/svg\" height=\"24px\"viewBox=\"0 0 24 24\"\n",
              "       width=\"24px\">\n",
              "    <path d=\"M0 0h24v24H0V0z\" fill=\"none\"/>\n",
              "    <path d=\"M18.56 5.44l.94 2.06.94-2.06 2.06-.94-2.06-.94-.94-2.06-.94 2.06-2.06.94zm-11 1L8.5 8.5l.94-2.06 2.06-.94-2.06-.94L8.5 2.5l-.94 2.06-2.06.94zm10 10l.94 2.06.94-2.06 2.06-.94-2.06-.94-.94-2.06-.94 2.06-2.06.94z\"/><path d=\"M17.41 7.96l-1.37-1.37c-.4-.4-.92-.59-1.43-.59-.52 0-1.04.2-1.43.59L10.3 9.45l-7.72 7.72c-.78.78-.78 2.05 0 2.83L4 21.41c.39.39.9.59 1.41.59.51 0 1.02-.2 1.41-.59l7.78-7.78 2.81-2.81c.8-.78.8-2.07 0-2.86zM5.41 20L4 18.59l7.72-7.72 1.47 1.35L5.41 20z\"/>\n",
              "  </svg>\n",
              "      </button>\n",
              "      \n",
              "  <style>\n",
              "    .colab-df-container {\n",
              "      display:flex;\n",
              "      flex-wrap:wrap;\n",
              "      gap: 12px;\n",
              "    }\n",
              "\n",
              "    .colab-df-convert {\n",
              "      background-color: #E8F0FE;\n",
              "      border: none;\n",
              "      border-radius: 50%;\n",
              "      cursor: pointer;\n",
              "      display: none;\n",
              "      fill: #1967D2;\n",
              "      height: 32px;\n",
              "      padding: 0 0 0 0;\n",
              "      width: 32px;\n",
              "    }\n",
              "\n",
              "    .colab-df-convert:hover {\n",
              "      background-color: #E2EBFA;\n",
              "      box-shadow: 0px 1px 2px rgba(60, 64, 67, 0.3), 0px 1px 3px 1px rgba(60, 64, 67, 0.15);\n",
              "      fill: #174EA6;\n",
              "    }\n",
              "\n",
              "    [theme=dark] .colab-df-convert {\n",
              "      background-color: #3B4455;\n",
              "      fill: #D2E3FC;\n",
              "    }\n",
              "\n",
              "    [theme=dark] .colab-df-convert:hover {\n",
              "      background-color: #434B5C;\n",
              "      box-shadow: 0px 1px 3px 1px rgba(0, 0, 0, 0.15);\n",
              "      filter: drop-shadow(0px 1px 2px rgba(0, 0, 0, 0.3));\n",
              "      fill: #FFFFFF;\n",
              "    }\n",
              "  </style>\n",
              "\n",
              "      <script>\n",
              "        const buttonEl =\n",
              "          document.querySelector('#df-01467540-8942-4395-b1a8-eddf7aa3b431 button.colab-df-convert');\n",
              "        buttonEl.style.display =\n",
              "          google.colab.kernel.accessAllowed ? 'block' : 'none';\n",
              "\n",
              "        async function convertToInteractive(key) {\n",
              "          const element = document.querySelector('#df-01467540-8942-4395-b1a8-eddf7aa3b431');\n",
              "          const dataTable =\n",
              "            await google.colab.kernel.invokeFunction('convertToInteractive',\n",
              "                                                     [key], {});\n",
              "          if (!dataTable) return;\n",
              "\n",
              "          const docLinkHtml = 'Like what you see? Visit the ' +\n",
              "            '<a target=\"_blank\" href=https://colab.research.google.com/notebooks/data_table.ipynb>data table notebook</a>'\n",
              "            + ' to learn more about interactive tables.';\n",
              "          element.innerHTML = '';\n",
              "          dataTable['output_type'] = 'display_data';\n",
              "          await google.colab.output.renderOutput(dataTable, element);\n",
              "          const docLink = document.createElement('div');\n",
              "          docLink.innerHTML = docLinkHtml;\n",
              "          element.appendChild(docLink);\n",
              "        }\n",
              "      </script>\n",
              "    </div>\n",
              "  </div>\n",
              "  "
            ]
          },
          "metadata": {},
          "execution_count": 3
        }
      ]
    },
    {
      "cell_type": "markdown",
      "source": [
        "### Step 4 - Creating the Training and Test Datasets"
      ],
      "metadata": {
        "id": "hyldtzedKPth"
      }
    },
    {
      "cell_type": "code",
      "source": [
        "X = df[predictors].values # Create an array of features\n",
        "y = df[target_column].values # create array of target\n",
        "\n",
        "# split into test-train\n",
        "X_train, X_test, y_train, y_test = train_test_split(X, y, test_size=0.30, random_state=42)\n",
        "# see shape for test and train\n",
        "print(X_train.shape); print(X_test.shape)"
      ],
      "metadata": {
        "colab": {
          "base_uri": "https://localhost:8080/"
        },
        "id": "XKLsISElKNFY",
        "outputId": "35d42e1e-118c-4782-f32b-65c5ed6ceb6d"
      },
      "execution_count": 4,
      "outputs": [
        {
          "output_type": "stream",
          "name": "stdout",
          "text": [
            "(1400, 8)\n",
            "(600, 8)\n"
          ]
        }
      ]
    },
    {
      "cell_type": "markdown",
      "source": [
        "### Step 5 - Building, Predicting, and Evaluating the Neural Network Model"
      ],
      "metadata": {
        "id": "QI1m-eLIKh2-"
      }
    },
    {
      "cell_type": "markdown",
      "source": [
        "we will build the neural network model using the scikit-learn library's estimator object, 'Multi-Layer Perceptron Classifier'\n",
        "\n",
        "see https://keras.io/ for Guides"
      ],
      "metadata": {
        "id": "ZpUs2kYgKnG1"
      }
    },
    {
      "cell_type": "code",
      "source": [
        "# Load the MLP Classifier\n",
        "from sklearn.neural_network import MLPClassifier\n",
        "\n",
        "#instantiates the model with 3 'hidden_layer_sizes' with 8 neurons each (for the 8 features)\n",
        "# relu is activation function and \n",
        "# adam is solver for weight optimization\n",
        "# max_iter is number of iterations\n",
        "mlp = MLPClassifier(hidden_layer_sizes=(8,8,8), activation='relu', solver='adam', max_iter=1000)\n",
        "\n",
        "# Fit ANN model to training data\n",
        "mlp.fit(X_train,y_train)\n",
        "\n",
        "#Generate predictions on Training Set\n",
        "predict_train = mlp.predict(X_train)\n",
        "#Generate predictions on Testing Set\n",
        "predict_test = mlp.predict(X_test)"
      ],
      "metadata": {
        "colab": {
          "base_uri": "https://localhost:8080/"
        },
        "id": "WxAzBhh8KkFZ",
        "outputId": "03531430-7cfd-405b-e983-ba82c69c6d5d"
      },
      "execution_count": 5,
      "outputs": [
        {
          "output_type": "stream",
          "name": "stderr",
          "text": [
            "/usr/local/lib/python3.9/dist-packages/sklearn/neural_network/_multilayer_perceptron.py:1098: DataConversionWarning: A column-vector y was passed when a 1d array was expected. Please change the shape of y to (n_samples, ), for example using ravel().\n",
            "  y = column_or_1d(y, warn=True)\n"
          ]
        }
      ]
    },
    {
      "cell_type": "markdown",
      "source": [
        "#### Evaluate Performance on Training Data"
      ],
      "metadata": {
        "id": "sUnl5uKBLvdI"
      }
    },
    {
      "cell_type": "code",
      "source": [
        "# Load Prediction Evaluation Functions\n",
        "from sklearn.metrics import classification_report,confusion_matrix\n",
        "\n",
        "# Print Confusion MAtrix for TRAINING\n",
        "print(\"Confusion Matrix for Training Data \\n\", confusion_matrix(y_train,predict_train))\n",
        "# Print Prediction Performance metrics for TRAINING\n",
        "print(\"\\n \\n Prediction Performance for Training Data \\n\",classification_report(y_train,predict_train))"
      ],
      "metadata": {
        "colab": {
          "base_uri": "https://localhost:8080/"
        },
        "id": "N6vfF8chLxJ5",
        "outputId": "5e7523d9-e0ee-45cb-b68b-66ac8a9ca9ca"
      },
      "execution_count": 6,
      "outputs": [
        {
          "output_type": "stream",
          "name": "stdout",
          "text": [
            "Confusion Matrix for Training Data \n",
            " [[780 147]\n",
            " [166 307]]\n",
            "\n",
            " \n",
            " Prediction Performance for Training Data \n",
            "               precision    recall  f1-score   support\n",
            "\n",
            "           0       0.82      0.84      0.83       927\n",
            "           1       0.68      0.65      0.66       473\n",
            "\n",
            "    accuracy                           0.78      1400\n",
            "   macro avg       0.75      0.75      0.75      1400\n",
            "weighted avg       0.77      0.78      0.78      1400\n",
            "\n"
          ]
        }
      ]
    },
    {
      "cell_type": "markdown",
      "source": [
        "Support: classification population for  each class \n",
        "i.e., in training data, there were 927 class 0 and 473 class 1\n",
        "\n",
        "Weighted average implies performance is weighted by class population\n",
        "Macro Avg is not weighted"
      ],
      "metadata": {
        "id": "ga29I1CBMvbi"
      }
    },
    {
      "cell_type": "markdown",
      "source": [
        "#### Evaluate Performance on TESTING Data"
      ],
      "metadata": {
        "id": "1xk5mswtN-wI"
      }
    },
    {
      "cell_type": "code",
      "source": [
        "# Print Confusion MAtrix for TEST\n",
        "print(\"Confusion Matrix for *TEST* Data \\n\", confusion_matrix(y_test,predict_test))\n",
        "# Print Prediction Performance metrics for TRAINING\n",
        "print(\"\\n \\n Prediction Performance for *TEST* Data \\n\",classification_report(y_test,predict_test))"
      ],
      "metadata": {
        "colab": {
          "base_uri": "https://localhost:8080/"
        },
        "id": "NWXR_7UnN-ey",
        "outputId": "88b31c1a-0d39-4d1d-c07a-5fb560a02f99"
      },
      "execution_count": 7,
      "outputs": [
        {
          "output_type": "stream",
          "name": "stdout",
          "text": [
            "Confusion Matrix for *TEST* Data \n",
            " [[325  64]\n",
            " [ 63 148]]\n",
            "\n",
            " \n",
            " Prediction Performance for *TEST* Data \n",
            "               precision    recall  f1-score   support\n",
            "\n",
            "           0       0.84      0.84      0.84       389\n",
            "           1       0.70      0.70      0.70       211\n",
            "\n",
            "    accuracy                           0.79       600\n",
            "   macro avg       0.77      0.77      0.77       600\n",
            "weighted avg       0.79      0.79      0.79       600\n",
            "\n"
          ]
        }
      ]
    },
    {
      "cell_type": "markdown",
      "source": [
        "### Now let's build a regression based ANN model"
      ],
      "metadata": {
        "id": "wQq86iKAQC8E"
      }
    },
    {
      "cell_type": "markdown",
      "source": [
        "Based on https://www.pluralsight.com/guides/regression-keras/"
      ],
      "metadata": {
        "id": "FHM72HtKTYbf"
      }
    },
    {
      "cell_type": "code",
      "source": [
        "# Import  Keras specific modules\n",
        "import keras\n",
        "from keras.models import Sequential\n",
        "from keras.layers import Dense\n",
        "from sklearn.metrics import mean_squared_error"
      ],
      "metadata": {
        "id": "SOJlFq2sQOn0"
      },
      "execution_count": 8,
      "outputs": []
    },
    {
      "cell_type": "code",
      "source": [
        "print(X_train.shape);print(y_train.shape)\n",
        "\n",
        "print(X_test.shape); print(y_test.shape)"
      ],
      "metadata": {
        "colab": {
          "base_uri": "https://localhost:8080/"
        },
        "id": "uq0rDX-eQ5zC",
        "outputId": "e8f9ef66-5732-4126-a442-b1bd9e491c65"
      },
      "execution_count": 9,
      "outputs": [
        {
          "output_type": "stream",
          "name": "stdout",
          "text": [
            "(1400, 8)\n",
            "(1400, 1)\n",
            "(600, 8)\n",
            "(600, 1)\n"
          ]
        }
      ]
    },
    {
      "cell_type": "code",
      "source": [
        "# Define model\n",
        "\n",
        "model = Sequential()\n",
        "model.add(Dense(3, input_dim=8, activation= \"relu\"))\n",
        "model.add(Dense(2, activation= \"relu\"))\n",
        "#model.add(Dense(5, activation= \"relu\"))\n",
        "model.add(Dense(1))\n",
        "model.summary() #Print model Summary"
      ],
      "metadata": {
        "colab": {
          "base_uri": "https://localhost:8080/"
        },
        "id": "nwHkMlvGNc_H",
        "outputId": "c8356f61-4c30-4fe4-cc3e-3fb0954ceb88"
      },
      "execution_count": 10,
      "outputs": [
        {
          "output_type": "stream",
          "name": "stdout",
          "text": [
            "Model: \"sequential\"\n",
            "_________________________________________________________________\n",
            " Layer (type)                Output Shape              Param #   \n",
            "=================================================================\n",
            " dense (Dense)               (None, 3)                 27        \n",
            "                                                                 \n",
            " dense_1 (Dense)             (None, 2)                 8         \n",
            "                                                                 \n",
            " dense_2 (Dense)             (None, 1)                 3         \n",
            "                                                                 \n",
            "=================================================================\n",
            "Total params: 38\n",
            "Trainable params: 38\n",
            "Non-trainable params: 0\n",
            "_________________________________________________________________\n"
          ]
        }
      ]
    },
    {
      "cell_type": "code",
      "source": [
        "model.compile(loss= \"mean_squared_error\" , optimizer=\"adam\", metrics=[\"mean_squared_error\"])\n",
        "\n",
        "model.fit(X_train,y_train, epochs=20)"
      ],
      "metadata": {
        "colab": {
          "base_uri": "https://localhost:8080/"
        },
        "id": "WRq7q0IuQeWv",
        "outputId": "1a2fbd44-dea1-408e-d952-b2323353953f"
      },
      "execution_count": 11,
      "outputs": [
        {
          "output_type": "stream",
          "name": "stdout",
          "text": [
            "Epoch 1/20\n",
            "44/44 [==============================] - 2s 4ms/step - loss: 0.3249 - mean_squared_error: 0.3249\n",
            "Epoch 2/20\n",
            "44/44 [==============================] - 0s 6ms/step - loss: 0.3008 - mean_squared_error: 0.3008\n",
            "Epoch 3/20\n",
            "44/44 [==============================] - 0s 5ms/step - loss: 0.2812 - mean_squared_error: 0.2812\n",
            "Epoch 4/20\n",
            "44/44 [==============================] - 0s 3ms/step - loss: 0.2659 - mean_squared_error: 0.2659\n",
            "Epoch 5/20\n",
            "44/44 [==============================] - 0s 3ms/step - loss: 0.2540 - mean_squared_error: 0.2540\n",
            "Epoch 6/20\n",
            "44/44 [==============================] - 0s 3ms/step - loss: 0.2449 - mean_squared_error: 0.2449\n",
            "Epoch 7/20\n",
            "44/44 [==============================] - 0s 5ms/step - loss: 0.2383 - mean_squared_error: 0.2383\n",
            "Epoch 8/20\n",
            "44/44 [==============================] - 0s 9ms/step - loss: 0.2335 - mean_squared_error: 0.2335\n",
            "Epoch 9/20\n",
            "44/44 [==============================] - 0s 9ms/step - loss: 0.2301 - mean_squared_error: 0.2301\n",
            "Epoch 10/20\n",
            "44/44 [==============================] - 0s 8ms/step - loss: 0.2279 - mean_squared_error: 0.2279\n",
            "Epoch 11/20\n",
            "44/44 [==============================] - 0s 7ms/step - loss: 0.2262 - mean_squared_error: 0.2262\n",
            "Epoch 12/20\n",
            "44/44 [==============================] - 0s 9ms/step - loss: 0.2253 - mean_squared_error: 0.2253\n",
            "Epoch 13/20\n",
            "44/44 [==============================] - 0s 10ms/step - loss: 0.2247 - mean_squared_error: 0.2247\n",
            "Epoch 14/20\n",
            "44/44 [==============================] - 0s 6ms/step - loss: 0.2243 - mean_squared_error: 0.2243\n",
            "Epoch 15/20\n",
            "44/44 [==============================] - 0s 5ms/step - loss: 0.2240 - mean_squared_error: 0.2240\n",
            "Epoch 16/20\n",
            "44/44 [==============================] - 0s 5ms/step - loss: 0.2239 - mean_squared_error: 0.2239\n",
            "Epoch 17/20\n",
            "44/44 [==============================] - 0s 5ms/step - loss: 0.2239 - mean_squared_error: 0.2239\n",
            "Epoch 18/20\n",
            "44/44 [==============================] - 0s 3ms/step - loss: 0.2238 - mean_squared_error: 0.2238\n",
            "Epoch 19/20\n",
            "44/44 [==============================] - 0s 3ms/step - loss: 0.2238 - mean_squared_error: 0.2238\n",
            "Epoch 20/20\n",
            "44/44 [==============================] - 0s 3ms/step - loss: 0.2238 - mean_squared_error: 0.2238\n"
          ]
        },
        {
          "output_type": "execute_result",
          "data": {
            "text/plain": [
              "<keras.callbacks.History at 0x7f2861f5d7c0>"
            ]
          },
          "metadata": {},
          "execution_count": 11
        }
      ]
    },
    {
      "cell_type": "markdown",
      "source": [
        "Evaluate model"
      ],
      "metadata": {
        "id": "F4vfCmsESIj_"
      }
    },
    {
      "cell_type": "code",
      "source": [
        "model.compile(loss= \"mean_squared_error\" , optimizer=\"adam\", metrics=[\"mean_squared_error\"])\n",
        "\n",
        "model.fit(X_train, y_train, epochs=20)"
      ],
      "metadata": {
        "colab": {
          "base_uri": "https://localhost:8080/"
        },
        "id": "nPRdyss_QzXE",
        "outputId": "77d6e904-cdba-4a24-8ca7-f9203eb301ee"
      },
      "execution_count": 12,
      "outputs": [
        {
          "output_type": "stream",
          "name": "stdout",
          "text": [
            "Epoch 1/20\n",
            "44/44 [==============================] - 2s 5ms/step - loss: 0.2238 - mean_squared_error: 0.2238\n",
            "Epoch 2/20\n",
            "44/44 [==============================] - 0s 5ms/step - loss: 0.2237 - mean_squared_error: 0.2237\n",
            "Epoch 3/20\n",
            "44/44 [==============================] - 0s 5ms/step - loss: 0.2238 - mean_squared_error: 0.2238\n",
            "Epoch 4/20\n",
            "44/44 [==============================] - 0s 5ms/step - loss: 0.2237 - mean_squared_error: 0.2237\n",
            "Epoch 5/20\n",
            "44/44 [==============================] - 0s 3ms/step - loss: 0.2238 - mean_squared_error: 0.2238\n",
            "Epoch 6/20\n",
            "44/44 [==============================] - 0s 3ms/step - loss: 0.2237 - mean_squared_error: 0.2237\n",
            "Epoch 7/20\n",
            "44/44 [==============================] - 0s 3ms/step - loss: 0.2237 - mean_squared_error: 0.2237\n",
            "Epoch 8/20\n",
            "44/44 [==============================] - 0s 5ms/step - loss: 0.2238 - mean_squared_error: 0.2238\n",
            "Epoch 9/20\n",
            "44/44 [==============================] - 0s 4ms/step - loss: 0.2239 - mean_squared_error: 0.2239\n",
            "Epoch 10/20\n",
            "44/44 [==============================] - 0s 4ms/step - loss: 0.2238 - mean_squared_error: 0.2238\n",
            "Epoch 11/20\n",
            "44/44 [==============================] - 0s 3ms/step - loss: 0.2237 - mean_squared_error: 0.2237\n",
            "Epoch 12/20\n",
            "44/44 [==============================] - 0s 3ms/step - loss: 0.2238 - mean_squared_error: 0.2238\n",
            "Epoch 13/20\n",
            "44/44 [==============================] - 0s 4ms/step - loss: 0.2238 - mean_squared_error: 0.2238\n",
            "Epoch 14/20\n",
            "44/44 [==============================] - 0s 7ms/step - loss: 0.2237 - mean_squared_error: 0.2237\n",
            "Epoch 15/20\n",
            "44/44 [==============================] - 0s 7ms/step - loss: 0.2238 - mean_squared_error: 0.2238\n",
            "Epoch 16/20\n",
            "44/44 [==============================] - 0s 7ms/step - loss: 0.2237 - mean_squared_error: 0.2237\n",
            "Epoch 17/20\n",
            "44/44 [==============================] - 1s 15ms/step - loss: 0.2238 - mean_squared_error: 0.2238\n",
            "Epoch 18/20\n",
            "44/44 [==============================] - 1s 19ms/step - loss: 0.2237 - mean_squared_error: 0.2237\n",
            "Epoch 19/20\n",
            "44/44 [==============================] - 1s 14ms/step - loss: 0.2237 - mean_squared_error: 0.2237\n",
            "Epoch 20/20\n",
            "44/44 [==============================] - 0s 5ms/step - loss: 0.2238 - mean_squared_error: 0.2238\n"
          ]
        },
        {
          "output_type": "execute_result",
          "data": {
            "text/plain": [
              "<keras.callbacks.History at 0x7f28614e90a0>"
            ]
          },
          "metadata": {},
          "execution_count": 12
        }
      ]
    },
    {
      "cell_type": "markdown",
      "source": [
        "Predict on Train and Test"
      ],
      "metadata": {
        "id": "FrCn3FvTSSd0"
      }
    },
    {
      "cell_type": "code",
      "source": [
        "pred_train= model.predict(X_train)\n",
        "print(\"Train Performance:\", np.sqrt(mean_squared_error(y_train,pred_train)))\n",
        "print(\"\\n \")\n",
        "\n",
        "pred= model.predict(X_test)\n",
        "print(\"Test Performance:\",np.sqrt(mean_squared_error(y_test,pred))) "
      ],
      "metadata": {
        "colab": {
          "base_uri": "https://localhost:8080/"
        },
        "id": "uzKnIt2BSUER",
        "outputId": "5c2e1a25-7a82-4d9c-8e62-c263bfd83f10"
      },
      "execution_count": 13,
      "outputs": [
        {
          "output_type": "stream",
          "name": "stdout",
          "text": [
            "44/44 [==============================] - 0s 6ms/step\n",
            "Train Performance: 0.4729799472665411\n",
            "\n",
            " \n",
            "19/19 [==============================] - 0s 1ms/step\n",
            "Test Performance: 0.4776737768379378\n"
          ]
        }
      ]
    },
    {
      "cell_type": "markdown",
      "source": [
        "# function to plot NN"
      ],
      "metadata": {
        "id": "uYBoCi3CTtpS"
      }
    },
    {
      "cell_type": "code",
      "source": [
        "'''\n",
        "Extract info for each layer in a keras model.\n",
        "'''\n",
        "def utils_nn_config(model):\n",
        "    lst_layers = []\n",
        "    if \"Sequential\" in str(model): #-> Sequential doesn't show the input layer\n",
        "        layer = model.layers[0]\n",
        "        lst_layers.append({\"name\":\"input\", \"in\":int(layer.input.shape[-1]), \"neurons\":0, \n",
        "                           \"out\":int(layer.input.shape[-1]), \"activation\":None,\n",
        "                           \"params\":0, \"bias\":0})\n",
        "    for layer in model.layers:\n",
        "        try:\n",
        "            dic_layer = {\"name\":layer.name, \"in\":int(layer.input.shape[-1]), \"neurons\":layer.units, \n",
        "                         \"out\":int(layer.output.shape[-1]), \"activation\":layer.get_config()[\"activation\"],\n",
        "                         \"params\":layer.get_weights()[0], \"bias\":layer.get_weights()[1]}\n",
        "        except:\n",
        "            dic_layer = {\"name\":layer.name, \"in\":int(layer.input.shape[-1]), \"neurons\":0, \n",
        "                         \"out\":int(layer.output.shape[-1]), \"activation\":None,\n",
        "                         \"params\":0, \"bias\":0}\n",
        "        lst_layers.append(dic_layer)\n",
        "    return lst_layers\n",
        "    \n",
        "'''\n",
        "Plot the structure of a keras neural network.\n",
        "'''\n",
        "def visualize_nn(model, description=False, figsize=(10,8)):\n",
        "    ## get layers info\n",
        "    lst_layers = utils_nn_config(model)\n",
        "    layer_sizes = [layer[\"out\"] for layer in lst_layers]\n",
        "    \n",
        "    ## fig setup\n",
        "    fig = plt.figure(figsize=figsize)\n",
        "    ax = fig.gca()\n",
        "    ax.set(title=model.name)\n",
        "    ax.axis('off')\n",
        "    left, right, bottom, top = 0.1, 0.9, 0.1, 0.9\n",
        "    x_space = (right-left) / float(len(layer_sizes)-1)\n",
        "    y_space = (top-bottom) / float(max(layer_sizes))\n",
        "    p = 0.025\n",
        "    \n",
        "    ## nodes\n",
        "    for i,n in enumerate(layer_sizes):\n",
        "        top_on_layer = y_space*(n-1)/2.0 + (top+bottom)/2.0\n",
        "        layer = lst_layers[i]\n",
        "        color = \"green\" if i in [0, len(layer_sizes)-1] else \"blue\"\n",
        "        color = \"red\" if (layer['neurons'] == 0) and (i > 0) else color\n",
        "        \n",
        "        ### add description\n",
        "        if (description is True):\n",
        "            d = i if i == 0 else i-0.5\n",
        "            if layer['activation'] is None:\n",
        "                plt.text(x=left+d*x_space, y=top, fontsize=10, color=color, s=layer[\"name\"].upper())\n",
        "            else:\n",
        "                plt.text(x=left+d*x_space, y=top, fontsize=10, color=color, s=layer[\"name\"].upper())\n",
        "                plt.text(x=left+d*x_space, y=top-p, fontsize=10, color=color, s=layer['activation']+\" (\")\n",
        "                plt.text(x=left+d*x_space, y=top-2*p, fontsize=10, color=color, s=\"Σ\"+str(layer['in'])+\"[X*w]+b\")\n",
        "                out = \" Y\"  if i == len(layer_sizes)-1 else \" out\"\n",
        "                plt.text(x=left+d*x_space, y=top-3*p, fontsize=10, color=color, s=\") = \"+str(layer['neurons'])+out)\n",
        "        \n",
        "        ### circles\n",
        "        for m in range(n):\n",
        "            color = \"limegreen\" if color == \"green\" else color\n",
        "            circle = plt.Circle(xy=(left+i*x_space, top_on_layer-m*y_space-4*p), radius=y_space/4.0, color=color, ec='k', zorder=4)\n",
        "            ax.add_artist(circle)\n",
        "            \n",
        "            ### add text\n",
        "            if i == 0:\n",
        "                plt.text(x=left-4*p, y=top_on_layer-m*y_space-4*p, fontsize=10, s=r'$X_{'+str(m+1)+'}$')\n",
        "            elif i == len(layer_sizes)-1:\n",
        "                plt.text(x=right+4*p, y=top_on_layer-m*y_space-4*p, fontsize=10, s=r'$y_{'+str(m+1)+'}$')\n",
        "            else:\n",
        "                plt.text(x=left+i*x_space+p, y=top_on_layer-m*y_space+(y_space/8.+0.01*y_space)-4*p, fontsize=10, s=r'$H_{'+str(m+1)+'}$')\n",
        "    \n",
        "    ## links\n",
        "    for i, (n_a, n_b) in enumerate(zip(layer_sizes[:-1], layer_sizes[1:])):\n",
        "        layer = lst_layers[i+1]\n",
        "        color = \"green\" if i == len(layer_sizes)-2 else \"blue\"\n",
        "        color = \"red\" if layer['neurons'] == 0 else color\n",
        "        layer_top_a = y_space*(n_a-1)/2. + (top+bottom)/2. -4*p\n",
        "        layer_top_b = y_space*(n_b-1)/2. + (top+bottom)/2. -4*p\n",
        "        for m in range(n_a):\n",
        "            for o in range(n_b):\n",
        "                line = plt.Line2D([i*x_space+left, (i+1)*x_space+left], \n",
        "                                  [layer_top_a-m*y_space, layer_top_b-o*y_space], \n",
        "                                  c=color, alpha=0.5)\n",
        "                if layer['activation'] is None:\n",
        "                    if o == m:\n",
        "                        ax.add_artist(line)\n",
        "                else:\n",
        "                    ax.add_artist(line)\n",
        "    plt.show()\n"
      ],
      "metadata": {
        "id": "mhD6vCwqStwV"
      },
      "execution_count": 14,
      "outputs": []
    },
    {
      "cell_type": "code",
      "source": [
        "visualize_nn(model, description=True, figsize=(10,8))"
      ],
      "metadata": {
        "colab": {
          "base_uri": "https://localhost:8080/",
          "height": 482
        },
        "id": "wVjNmTNhTwg5",
        "outputId": "598d4585-d66f-48a6-dd75-e03406a4fe74"
      },
      "execution_count": 15,
      "outputs": [
        {
          "output_type": "display_data",
          "data": {
            "text/plain": [
              "<Figure size 720x576 with 1 Axes>"
            ],
            "image/png": "[encoded data removed]"
          },
          "metadata": {
            "needs_background": "light"
          }
        }
      ]
    }
  ]
}