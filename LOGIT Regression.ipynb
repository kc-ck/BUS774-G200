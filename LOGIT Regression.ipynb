{
 "cells": [
  {
   "cell_type": "code",
   "execution_count": 28,
   "id": "34b2c024",
   "metadata": {},
   "outputs": [],
   "source": [
    "import pandas as pd #this package allows us to \"excel-ify\" python\n",
    "import numpy as np #most of the mathematical functions we'll need\n",
    "import statsmodels.api as sm #for statistical analysis\n",
    "\n",
    "import matplotlib.pyplot as plt #to plot\n",
    "import seaborn as sns #to plot"
   ]
  },
  {
   "cell_type": "code",
   "execution_count": 29,
   "id": "16093564",
   "metadata": {},
   "outputs": [],
   "source": [
    "#X represents the size of a tumor in centimeters.\n",
    "X = np.array([3.78, 2.44, 2.09, 0.14, 1.72, 1.65, 4.92, 4.37, 4.96, 4.52, 3.69, 5.88]).reshape(-1,1)\n",
    "\n",
    "#Note: X has to be reshaped into a column from a row for the LogisticRegression() function to work.\n",
    "\n",
    "#y represents whether or not the tumor is cancerous (0 for \"No\", 1 for \"Yes\").\n",
    "y = np.array([0, 0, 0, 0, 0, 0, 1, 1, 1, 1, 1, 1]) "
   ]
  },
  {
   "cell_type": "code",
   "execution_count": 35,
   "id": "0882e697",
   "metadata": {},
   "outputs": [
    {
     "name": "stdout",
     "output_type": "stream",
     "text": [
      "Optimization terminated successfully.\n",
      "         Current function value: 0.140603\n",
      "         Iterations 11\n",
      "                           Logit Regression Results                           \n",
      "==============================================================================\n",
      "Dep. Variable:                      y   No. Observations:                   12\n",
      "Model:                          Logit   Df Residuals:                       10\n",
      "Method:                           MLE   Df Model:                            1\n",
      "Date:                Mon, 06 Feb 2023   Pseudo R-squ.:                  0.7972\n",
      "Time:                        13:48:14   Log-Likelihood:                -1.6872\n",
      "converged:                       True   LL-Null:                       -8.3178\n",
      "Covariance Type:            nonrobust   LLR p-value:                 0.0002710\n",
      "==============================================================================\n",
      "                 coef    std err          z      P>|z|      [0.025      0.975]\n",
      "------------------------------------------------------------------------------\n",
      "const        -17.9783     19.733     -0.911      0.362     -56.654      20.698\n",
      "x1             4.8465      5.169      0.938      0.348      -5.285      14.978\n",
      "==============================================================================\n",
      "\n",
      "Possibly complete quasi-separation: A fraction 0.33 of observations can be\n",
      "perfectly predicted. This might indicate that there is complete\n",
      "quasi-separation. In this case some parameters will not be identified.\n"
     ]
    }
   ],
   "source": [
    "#Step 12: Logistic Regression\n",
    "# This is very similar to the code for OLS regression\n",
    "\n",
    "X_c = sm.add_constant(X)\n",
    "\n",
    "logit = sm.Logit(endog=y, exog=X_c).fit() # this is where we use sm. Logit instead of sm.OLS\n",
    "logitSummary= logit.summary()\n",
    "print (logitSummary) "
   ]
  },
  {
   "cell_type": "markdown",
   "id": "11349bc0",
   "metadata": {},
   "source": [
    "Remember the interpretation is change in x1 on log odds of y!"
   ]
  },
  {
   "cell_type": "code",
   "execution_count": 31,
   "id": "16f51fd0",
   "metadata": {},
   "outputs": [
    {
     "name": "stdout",
     "output_type": "stream",
     "text": [
      "                            OLS Regression Results                            \n",
      "==============================================================================\n",
      "Dep. Variable:                      y   R-squared:                       0.701\n",
      "Model:                            OLS   Adj. R-squared:                  0.671\n",
      "Method:                 Least Squares   F-statistic:                     23.47\n",
      "Date:                Mon, 06 Feb 2023   Prob (F-statistic):           0.000677\n",
      "Time:                        13:44:24   Log-Likelihood:                -1.4618\n",
      "No. Observations:                  12   AIC:                             6.924\n",
      "Df Residuals:                      10   BIC:                             7.893\n",
      "Df Model:                           1                                         \n",
      "Covariance Type:            nonrobust                                         \n",
      "==============================================================================\n",
      "                 coef    std err          t      P>|t|      [0.025      0.975]\n",
      "------------------------------------------------------------------------------\n",
      "const         -0.3523      0.196     -1.797      0.103      -0.789       0.084\n",
      "x1             0.2547      0.053      4.844      0.001       0.138       0.372\n",
      "==============================================================================\n",
      "Omnibus:                        1.342   Durbin-Watson:                   1.084\n",
      "Prob(Omnibus):                  0.511   Jarque-Bera (JB):                0.587\n",
      "Skew:                          -0.535   Prob(JB):                        0.746\n",
      "Kurtosis:                       2.833   Cond. No.                         8.95\n",
      "==============================================================================\n",
      "\n",
      "Notes:\n",
      "[1] Standard Errors assume that the covariance matrix of the errors is correctly specified.\n"
     ]
    },
    {
     "name": "stderr",
     "output_type": "stream",
     "text": [
      "C:\\ProgramData\\Anaconda3\\lib\\site-packages\\scipy\\stats\\stats.py:1603: UserWarning: kurtosistest only valid for n>=20 ... continuing anyway, n=12\n",
      "  warnings.warn(\"kurtosistest only valid for n>=20 ... continuing \"\n"
     ]
    }
   ],
   "source": [
    "# let's compare to OLS regression\n",
    "ols = sm.OLS(y,X_c).fit() # this is where we use sm. Logit instead of sm.OLS\n",
    "OLSsummary= ols.summary()\n",
    "print (OLSsummary) "
   ]
  },
  {
   "cell_type": "markdown",
   "id": "6d583931",
   "metadata": {},
   "source": [
    "# ANOTHER Example"
   ]
  },
  {
   "cell_type": "code",
   "execution_count": 42,
   "id": "cdb9d68a",
   "metadata": {},
   "outputs": [],
   "source": [
    "import statsmodels.api as sm"
   ]
  },
  {
   "cell_type": "markdown",
   "id": "ad8e299d",
   "metadata": {},
   "source": [
    "spector_data from Spector and Mazzeo (1980). https://www.tandfonline.com/doi/abs/10.1080/00220485.1980.10844952\n",
    "\n",
    " Variable name definitions::\n",
    "\n",
    "        Grade - binary variable indicating whether or not a student's grade\n",
    "                improved.  1 indicates an improvement.\n",
    "        TUCE  - Test score on economics test\n",
    "        PSI   - participation in program\n",
    "        GPA   - Student's grade point average"
   ]
  },
  {
   "cell_type": "code",
   "execution_count": 67,
   "id": "98160c47",
   "metadata": {},
   "outputs": [
    {
     "name": "stdout",
     "output_type": "stream",
     "text": [
      "<class 'pandas.core.frame.DataFrame'>\n",
      "RangeIndex: 32 entries, 0 to 31\n",
      "Data columns (total 4 columns):\n",
      " #   Column  Non-Null Count  Dtype  \n",
      "---  ------  --------------  -----  \n",
      " 0   GPA     32 non-null     float64\n",
      " 1   TUCE    32 non-null     float64\n",
      " 2   PSI     32 non-null     float64\n",
      " 3   GRADE   32 non-null     float64\n",
      "dtypes: float64(4)\n",
      "memory usage: 1.1 KB\n"
     ]
    },
    {
     "data": {
      "text/html": [
       "<div>\n",
       "<style scoped>\n",
       "    .dataframe tbody tr th:only-of-type {\n",
       "        vertical-align: middle;\n",
       "    }\n",
       "\n",
       "    .dataframe tbody tr th {\n",
       "        vertical-align: top;\n",
       "    }\n",
       "\n",
       "    .dataframe thead th {\n",
       "        text-align: right;\n",
       "    }\n",
       "</style>\n",
       "<table border=\"1\" class=\"dataframe\">\n",
       "  <thead>\n",
       "    <tr style=\"text-align: right;\">\n",
       "      <th></th>\n",
       "      <th>GPA</th>\n",
       "      <th>TUCE</th>\n",
       "      <th>PSI</th>\n",
       "      <th>GRADE</th>\n",
       "    </tr>\n",
       "  </thead>\n",
       "  <tbody>\n",
       "    <tr>\n",
       "      <th>0</th>\n",
       "      <td>2.66</td>\n",
       "      <td>20.0</td>\n",
       "      <td>0.0</td>\n",
       "      <td>0.0</td>\n",
       "    </tr>\n",
       "    <tr>\n",
       "      <th>1</th>\n",
       "      <td>2.89</td>\n",
       "      <td>22.0</td>\n",
       "      <td>0.0</td>\n",
       "      <td>0.0</td>\n",
       "    </tr>\n",
       "    <tr>\n",
       "      <th>2</th>\n",
       "      <td>3.28</td>\n",
       "      <td>24.0</td>\n",
       "      <td>0.0</td>\n",
       "      <td>0.0</td>\n",
       "    </tr>\n",
       "    <tr>\n",
       "      <th>3</th>\n",
       "      <td>2.92</td>\n",
       "      <td>12.0</td>\n",
       "      <td>0.0</td>\n",
       "      <td>0.0</td>\n",
       "    </tr>\n",
       "    <tr>\n",
       "      <th>4</th>\n",
       "      <td>4.00</td>\n",
       "      <td>21.0</td>\n",
       "      <td>0.0</td>\n",
       "      <td>1.0</td>\n",
       "    </tr>\n",
       "  </tbody>\n",
       "</table>\n",
       "</div>"
      ],
      "text/plain": [
       "    GPA  TUCE  PSI  GRADE\n",
       "0  2.66  20.0  0.0    0.0\n",
       "1  2.89  22.0  0.0    0.0\n",
       "2  3.28  24.0  0.0    0.0\n",
       "3  2.92  12.0  0.0    0.0\n",
       "4  4.00  21.0  0.0    1.0"
      ]
     },
     "execution_count": 67,
     "metadata": {},
     "output_type": "execute_result"
    }
   ],
   "source": [
    "spector_data = sm.datasets.spector.load_pandas()\n",
    "df = spector_data.data\n",
    "df.info()\n",
    "df.head()"
   ]
  },
  {
   "cell_type": "code",
   "execution_count": 69,
   "id": "ab653f27",
   "metadata": {},
   "outputs": [],
   "source": [
    "spector_data.exog = sm.add_constant(spector_data.exog)"
   ]
  },
  {
   "cell_type": "code",
   "execution_count": 68,
   "id": "74f5a033",
   "metadata": {},
   "outputs": [
    {
     "name": "stdout",
     "output_type": "stream",
     "text": [
      "Optimization terminated successfully.\n",
      "         Current function value: 0.586580\n",
      "         Iterations 5\n"
     ]
    }
   ],
   "source": [
    "logit_mod = sm.Logit(spector_data.endog, spector_data.exog)\n",
    "logit_res = logit_mod.fit()"
   ]
  },
  {
   "cell_type": "code",
   "execution_count": 70,
   "id": "7bc4dc1d",
   "metadata": {},
   "outputs": [],
   "source": [
    "ols_mod = sm.OLS(spector_data.endog, spector_data.exog)\n",
    "ols_res=ols_mod.fit()"
   ]
  },
  {
   "cell_type": "code",
   "execution_count": 71,
   "id": "1a35e82b",
   "metadata": {},
   "outputs": [
    {
     "name": "stdout",
     "output_type": "stream",
     "text": [
      "                           Logit Regression Results                           \n",
      "==============================================================================\n",
      "Dep. Variable:                  GRADE   No. Observations:                   32\n",
      "Model:                          Logit   Df Residuals:                       29\n",
      "Method:                           MLE   Df Model:                            2\n",
      "Date:                Mon, 06 Feb 2023   Pseudo R-squ.:                 0.08844\n",
      "Time:                        14:01:59   Log-Likelihood:                -18.771\n",
      "converged:                       True   LL-Null:                       -20.592\n",
      "Covariance Type:            nonrobust   LLR p-value:                    0.1618\n",
      "==============================================================================\n",
      "                 coef    std err          z      P>|z|      [0.025      0.975]\n",
      "------------------------------------------------------------------------------\n",
      "GPA            0.2993      0.682      0.439      0.661      -1.036       1.635\n",
      "TUCE          -0.1015      0.100     -1.019      0.308      -0.297       0.094\n",
      "PSI            1.6364      0.813      2.014      0.044       0.044       3.229\n",
      "==============================================================================\n"
     ]
    }
   ],
   "source": [
    "print(logit_res.summary())"
   ]
  },
  {
   "cell_type": "markdown",
   "id": "05f876ce",
   "metadata": {},
   "source": [
    "a change in gpa by 1 changes log odds by 0.2993"
   ]
  },
  {
   "cell_type": "code",
   "execution_count": 77,
   "id": "0f37946d",
   "metadata": {},
   "outputs": [
    {
     "data": {
      "text/plain": [
       "0.5742713870829339"
      ]
     },
     "execution_count": 77,
     "metadata": {},
     "output_type": "execute_result"
    }
   ],
   "source": [
    "# to calculate prob from odds\n",
    "import math\n",
    "math.exp(.2993)/(1+math.exp(.2993))"
   ]
  },
  {
   "cell_type": "markdown",
   "id": "86b7f96c",
   "metadata": {},
   "source": [
    "a change in GPA by 1 improves probablity by 0.57!"
   ]
  },
  {
   "cell_type": "code",
   "execution_count": 72,
   "id": "f526203f",
   "metadata": {},
   "outputs": [
    {
     "name": "stdout",
     "output_type": "stream",
     "text": [
      "                            OLS Regression Results                            \n",
      "==============================================================================\n",
      "Dep. Variable:                  GRADE   R-squared:                       0.416\n",
      "Model:                            OLS   Adj. R-squared:                  0.353\n",
      "Method:                 Least Squares   F-statistic:                     6.646\n",
      "Date:                Mon, 06 Feb 2023   Prob (F-statistic):            0.00157\n",
      "Time:                        14:02:01   Log-Likelihood:                -12.978\n",
      "No. Observations:                  32   AIC:                             33.96\n",
      "Df Residuals:                      28   BIC:                             39.82\n",
      "Df Model:                           3                                         \n",
      "Covariance Type:            nonrobust                                         \n",
      "==============================================================================\n",
      "                 coef    std err          t      P>|t|      [0.025      0.975]\n",
      "------------------------------------------------------------------------------\n",
      "const         -1.4980      0.524     -2.859      0.008      -2.571      -0.425\n",
      "GPA            0.4639      0.162      2.864      0.008       0.132       0.796\n",
      "TUCE           0.0105      0.019      0.539      0.594      -0.029       0.050\n",
      "PSI            0.3786      0.139      2.720      0.011       0.093       0.664\n",
      "==============================================================================\n",
      "Omnibus:                        0.176   Durbin-Watson:                   2.346\n",
      "Prob(Omnibus):                  0.916   Jarque-Bera (JB):                0.167\n",
      "Skew:                           0.141   Prob(JB):                        0.920\n",
      "Kurtosis:                       2.786   Cond. No.                         176.\n",
      "==============================================================================\n",
      "\n",
      "Notes:\n",
      "[1] Standard Errors assume that the covariance matrix of the errors is correctly specified.\n"
     ]
    }
   ],
   "source": [
    "print(ols_res.summary())"
   ]
  },
  {
   "cell_type": "code",
   "execution_count": null,
   "id": "ff3521fe",
   "metadata": {},
   "outputs": [],
   "source": []
  }
 ],
 "metadata": {
  "kernelspec": {
   "display_name": "Python 3",
   "language": "python",
   "name": "python3"
  },
  "language_info": {
   "codemirror_mode": {
    "name": "ipython",
    "version": 3
   },
   "file_extension": ".py",
   "mimetype": "text/x-python",
   "name": "python",
   "nbconvert_exporter": "python",
   "pygments_lexer": "ipython3",
   "version": "3.8.8"
  }
 },
 "nbformat": 4,
 "nbformat_minor": 5
}
